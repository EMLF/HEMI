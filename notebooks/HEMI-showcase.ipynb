{
 "cells": [
  {
   "cell_type": "markdown",
   "metadata": {},
   "source": [
    "# Utilización de la HEMI en Julia\n",
    "\n",
    "En este cuaderno exploramos las primeras características de la HEMI en el grandioso lenguaje de programación Julia. "
   ]
  },
  {
   "cell_type": "code",
   "execution_count": 1,
   "metadata": {},
   "outputs": [
    {
     "output_type": "execute_result",
     "data": {
      "text/plain": [
       "\"c:\\\\Users\\\\Lenovo\\\\Documents\\\\Julia\\\\HEMI\\\\notebooks\""
      ]
     },
     "metadata": {},
     "execution_count": 1
    }
   ],
   "source": [
    "pwd() "
   ]
  },
  {
   "cell_type": "code",
   "execution_count": 2,
   "metadata": {},
   "outputs": [],
   "source": [
    "using DrWatson\n",
    "@quickactivate \"HEMI\""
   ]
  },
  {
   "cell_type": "markdown",
   "metadata": {},
   "source": [
    "## Carga de datos\n",
    "\n",
    "Vamos a cargar los datos del IPC de Guatemala"
   ]
  },
  {
   "cell_type": "code",
   "execution_count": 4,
   "metadata": {},
   "outputs": [],
   "source": [
    "using HEMI "
   ]
  },
  {
   "cell_type": "code",
   "execution_count": 7,
   "metadata": {},
   "outputs": [
    {
     "output_type": "execute_result",
     "data": {
      "text/plain": [
       "(VarCPIBase{Float32, Float32}: 120 períodos × 218 gastos básicos Jan-2001-Dec-2010, VarCPIBase{Float32, Float32}: 122 períodos × 279 gastos básicos Jan-2011-Feb-2021)"
      ]
     },
     "metadata": {},
     "execution_count": 7
    }
   ],
   "source": [
    "gt00, gt10 "
   ]
  },
  {
   "cell_type": "markdown",
   "metadata": {},
   "source": [
    "Los datos están guardados en estructuras de tipo `VarCPIBase`, que almacenan: \n",
    "- las matrices de variaciones intermensuales, \n",
    "- los vectores de ponderaciones, \n",
    "- las fechas asociadas a la base,\n",
    "- los índices base. "
   ]
  },
  {
   "cell_type": "code",
   "execution_count": 8,
   "metadata": {},
   "outputs": [
    {
     "output_type": "execute_result",
     "data": {
      "text/plain": [
       "(VarCPIBase{Float32, Float32}: 120 períodos × 218 gastos básicos Jan-2001-Dec-2010, VarCPIBase{Float32, Float32}: 122 períodos × 279 gastos básicos Jan-2011-Feb-2021)"
      ]
     },
     "metadata": {},
     "execution_count": 8
    }
   ],
   "source": [
    "gt00, gt10"
   ]
  },
  {
   "cell_type": "markdown",
   "metadata": {},
   "source": [
    "Para computar los estimadores de inflación, utilizamos una estructura llamada `UniformCountryStructure <: CountryStructure`:"
   ]
  },
  {
   "cell_type": "code",
   "execution_count": 10,
   "metadata": {},
   "outputs": [
    {
     "output_type": "execute_result",
     "data": {
      "text/plain": [
       "UniformCountryStructure{2, Float32, Float32} con 2 bases\n",
       "|─> VarCPIBase{Float32, Float32}: 120 períodos × 218 gastos básicos Jan-2001-Dec-2010\n",
       "|─> VarCPIBase{Float32, Float32}: 122 períodos × 279 gastos básicos Jan-2011-Feb-2021\n"
      ]
     },
     "metadata": {},
     "execution_count": 10
    }
   ],
   "source": [
    "gtdata"
   ]
  },
  {
   "cell_type": "markdown",
   "metadata": {},
   "source": [
    "### Seleccionar períodos específicos\n",
    "\n",
    "Podemos seleccionar períodos específicos para llevar a cabo el cómputo de inflación con una operación de indexado más intuitiva."
   ]
  },
  {
   "cell_type": "code",
   "execution_count": 11,
   "metadata": {},
   "outputs": [
    {
     "output_type": "execute_result",
     "data": {
      "text/plain": [
       "UniformCountryStructure{2, Float32, Float32} con 2 bases\n",
       "|─> VarCPIBase{Float32, Float32}: 120 períodos × 218 gastos básicos Jan-2001-Dec-2010\n",
       "|─> VarCPIBase{Float32, Float32}: 120 períodos × 279 gastos básicos Jan-2011-Dec-2020\n"
      ]
     },
     "metadata": {},
     "execution_count": 11
    }
   ],
   "source": [
    "gtdata[Date(2020,12)]"
   ]
  },
  {
   "cell_type": "markdown",
   "metadata": {},
   "source": [
    "Para obtener una base del IPC en la estructura, indexamos por enteros: "
   ]
  },
  {
   "cell_type": "code",
   "execution_count": 13,
   "metadata": {},
   "outputs": [
    {
     "output_type": "execute_result",
     "data": {
      "text/plain": [
       "VarCPIBase{Float32, Float32}: 120 períodos × 218 gastos básicos Jan-2001-Dec-2010"
      ]
     },
     "metadata": {},
     "execution_count": 13
    }
   ],
   "source": [
    "gtdata[1]"
   ]
  },
  {
   "cell_type": "markdown",
   "metadata": {},
   "source": [
    "### Agregar una base del IPC"
   ]
  },
  {
   "cell_type": "markdown",
   "metadata": {},
   "source": [
    "Supongamos ahora que tenemos una nueva base ficticia del IPC con 300 gastos básicos con base en diciembre de 2022. "
   ]
  },
  {
   "cell_type": "code",
   "execution_count": 16,
   "metadata": {},
   "outputs": [
    {
     "output_type": "execute_result",
     "data": {
      "text/plain": [
       "VarCPIBase{Float32, Float32}: 60 períodos × 300 gastos básicos Jan-2023-Dec-2027"
      ]
     },
     "metadata": {},
     "execution_count": 16
    }
   ],
   "source": [
    "# Creamos algunos datos ficticios\n",
    "v22 = randn(Float32, 60, 300)\n",
    "w22 = rand(Float32, 300)\n",
    "gt22 = VarCPIBase(v22, w22, Date(2023,1):Month(1):Date(2027,12), 100f0)"
   ]
  },
  {
   "cell_type": "code",
   "execution_count": 17,
   "metadata": {},
   "outputs": [
    {
     "output_type": "execute_result",
     "data": {
      "text/plain": [
       "UniformCountryStructure{3, Float32, Float32} con 3 bases\n",
       "|─> VarCPIBase{Float32, Float32}: 120 períodos × 218 gastos básicos Jan-2001-Dec-2010\n",
       "|─> VarCPIBase{Float32, Float32}: 122 períodos × 279 gastos básicos Jan-2011-Feb-2021\n",
       "|─> VarCPIBase{Float32, Float32}: 60 períodos × 300 gastos básicos Jan-2023-Dec-2027\n"
      ]
     },
     "metadata": {},
     "execution_count": 17
    }
   ],
   "source": [
    "gtnewdata = UniformCountryStructure(gt00, gt10, gt22)"
   ]
  },
  {
   "cell_type": "markdown",
   "metadata": {},
   "source": [
    "## Cómputo de estimadores de inflación\n",
    "\n",
    "La librería base incluye la variación interanual del IPC como función más básica de inflación. Para poder aplicarla, la instanciamos como un objeto. "
   ]
  },
  {
   "cell_type": "code",
   "execution_count": 18,
   "metadata": {},
   "outputs": [
    {
     "output_type": "execute_result",
     "data": {
      "text/plain": [
       "(::InflationTotalCPI) (generic function with 6 methods)"
      ]
     },
     "metadata": {},
     "execution_count": 18
    }
   ],
   "source": [
    "totalfn = InflationTotalCPI()"
   ]
  },
  {
   "cell_type": "markdown",
   "metadata": {},
   "source": [
    "La ventaja de esta implementación es que la función de inflación puede embeber sus parámetros y datos. Por ejemplo, las funciones de inflación se crean con su nombre. Esto puede parecer una característica no tan útil, pero en realidad, cuando se itera hacia arriba en la evaluación, se deben acarrear dichos parámetros en muchos lugares del código. Es una mejor práctica **embeberlos**. "
   ]
  },
  {
   "cell_type": "code",
   "execution_count": 20,
   "metadata": {},
   "outputs": [
    {
     "output_type": "execute_result",
     "data": {
      "text/plain": [
       "\"Variación interanual IPC\""
      ]
     },
     "metadata": {},
     "execution_count": 20
    }
   ],
   "source": [
    "measure_name(totalfn)"
   ]
  },
  {
   "cell_type": "markdown",
   "metadata": {},
   "source": [
    "Para aplicarla, simplemente se debe llamar sobre un objeto `CountryStructure`: "
   ]
  },
  {
   "cell_type": "code",
   "execution_count": 25,
   "metadata": {},
   "outputs": [
    {
     "output_type": "execute_result",
     "data": {
      "text/plain": [
       "231-element Vector{Float32}:\n",
       " 8.719707\n",
       " 8.6865425\n",
       " 8.902157\n",
       " 9.005642\n",
       " 9.147131\n",
       " 9.226524\n",
       " 9.102488\n",
       " 9.139276\n",
       " 7.7949524\n",
       " 7.197356\n",
       " 6.6627264\n",
       " 6.5288544\n",
       " 6.5147996\n",
       " ⋮\n",
       " 1.7696381\n",
       " 1.8787146\n",
       " 1.8027067\n",
       " 2.388215\n",
       " 2.8786063\n",
       " 4.194188\n",
       " 4.9636245\n",
       " 5.34544\n",
       " 5.4622054\n",
       " 4.829943\n",
       " 5.2387714\n",
       " 5.999708"
      ]
     },
     "metadata": {},
     "execution_count": 25
    }
   ],
   "source": [
    "totalfn(gtdata)"
   ]
  },
  {
   "cell_type": "markdown",
   "metadata": {},
   "source": [
    "Algo además muy útil es el \"despacho múltiple\" (***multiple dispatch***) de Julia: llamamos a la misma función, con diferentes argumentos y aplica una metodología diferente. Por ejemplo, si en vez de la variación interanual, quisiéramos el índice de precios de la medida de inflación, hacemos: "
   ]
  },
  {
   "cell_type": "code",
   "execution_count": 33,
   "metadata": {},
   "outputs": [
    {
     "data": {
      "text/plain": [
       "242-element Vector{Float64}:\n",
       " 101.34643426260612\n",
       " 102.0712127314407\n",
       " 102.59958556121363\n",
       " 103.0182346550822\n",
       " 103.3107549626403\n",
       " 104.0298370639817\n",
       " 104.863711021611\n",
       " 106.15126773990929\n",
       " 106.48331580207778\n",
       " 107.33251061697221\n",
       " 108.09200732044398\n",
       " 108.7196731206405\n",
       " 110.14990540185048\n",
       "   ⋮\n",
       " 272.15501177869504\n",
       " 274.0925480240522\n",
       " 274.6134386795303\n",
       " 278.4846185836708\n",
       " 279.66526781720705\n",
       " 280.78044994852155\n",
       " 281.21080336802044\n",
       " 284.19475256207323\n",
       " 285.7733649444347\n",
       " 285.75922452029135\n",
       " 286.1850663814757\n",
       " 287.1044415052746"
      ]
     },
     "execution_count": 33,
     "metadata": {},
     "output_type": "execute_result"
    }
   ],
   "source": [
    "totalfn(gtdata, CPIIndex())"
   ]
  },
  {
   "cell_type": "markdown",
   "metadata": {},
   "source": [
    "O la variación intermensual: "
   ]
  },
  {
   "cell_type": "code",
   "execution_count": 26,
   "metadata": {},
   "outputs": [
    {
     "output_type": "execute_result",
     "data": {
      "text/plain": [
       "242-element Vector{Float32}:\n",
       "  1.3464332\n",
       "  0.71516037\n",
       "  0.5176425\n",
       "  0.4080534\n",
       "  0.28395653\n",
       "  0.6960273\n",
       "  0.8015871\n",
       "  1.2278318\n",
       "  0.31279325\n",
       "  0.79751015\n",
       "  0.7075906\n",
       "  0.5806923\n",
       "  1.3155222\n",
       "  ⋮\n",
       "  0.4803419\n",
       "  0.7119298\n",
       "  0.19003153\n",
       "  1.4096856\n",
       "  0.42395592\n",
       "  0.39875507\n",
       "  0.15326738\n",
       "  1.0610938\n",
       "  0.5554795\n",
       " -0.0049471855\n",
       "  0.1490593\n",
       "  0.3211975"
      ]
     },
     "metadata": {},
     "execution_count": 26
    }
   ],
   "source": [
    "totalfn(gtdata, CPIVarInterm())"
   ]
  },
  {
   "cell_type": "markdown",
   "metadata": {},
   "source": [
    "Al principio, es un poco extraño llamar a la misma función con otros argumentos, pero en realidad, es un patrón común en computación científica. En la HEMI este patrón simplifica muchas cosas en el código. Esto es porque Julia funciona con sistema de tipos que permite escribir código más genérico. Por ejemplo, veamos el tipo de nuestra función de inflación: "
   ]
  },
  {
   "cell_type": "code",
   "execution_count": 28,
   "metadata": {},
   "outputs": [
    {
     "output_type": "execute_result",
     "data": {
      "text/plain": [
       "(InflationTotalCPI, InflationFunction, Function, Any)"
      ]
     },
     "metadata": {},
     "execution_count": 28
    }
   ],
   "source": [
    "supertypes(InflationTotalCPI)"
   ]
  },
  {
   "cell_type": "markdown",
   "metadata": {},
   "source": [
    "Como vemos, el tipo `InflationTotalCPI` es una `InflationFunction`, pero también deriva de `Function`. Esto nos permite agregar métodos genéricos para cualquier `InflationFunction`: "
   ]
  },
  {
   "cell_type": "code",
   "execution_count": 31,
   "metadata": {},
   "outputs": [
    {
     "output_type": "execute_result",
     "data": {
      "text/plain": [
       "# 6 methods:\n",
       "[1] (inflfn::InflationFunction)(cs::CountryStructure) in CPIDataBase at C:\\Users\\Lenovo\\Documents\\Julia\\HEMI\\src\\CPIDataBase\\src\\inflation\\InflationFunction.jl:75\n",
       "[2] (inflfn::InflationFunction)(cs::CountryStructure, ::CPIVarInterm) in CPIDataBase at C:\\Users\\Lenovo\\Documents\\Julia\\HEMI\\src\\CPIDataBase\\src\\inflation\\InflationFunction.jl:86\n",
       "[3] (inflfn::InflationFunction)(cs::CountryStructure, ::CPIIndex) in CPIDataBase at C:\\Users\\Lenovo\\Documents\\Julia\\HEMI\\src\\CPIDataBase\\src\\inflation\\InflationFunction.jl:80\n",
       "[4] (inflfn::InflationTotalCPI)(base::VarCPIBase{T, T}) where T<:AbstractFloat in CPIDataBase at C:\\Users\\Lenovo\\Documents\\Julia\\HEMI\\src\\CPIDataBase\\src\\inflation\\InflationFunction.jl:115\n",
       "[5] (inflfn::InflationTotalCPI)(base::VarCPIBase{T, B}) where {T<:AbstractFloat, B<:AbstractVector{T}} in CPIDataBase at C:\\Users\\Lenovo\\Documents\\Julia\\HEMI\\src\\CPIDataBase\\src\\inflation\\InflationFunction.jl:126\n",
       "[6] (inflfn::InflationFunction)(::VarCPIBase) in CPIDataBase at C:\\Users\\Lenovo\\Documents\\Julia\\HEMI\\src\\CPIDataBase\\src\\inflation\\InflationFunction.jl:95"
      ],
      "text/html": "# 6 methods:<ul><li> (inflfn::<b>InflationFunction</b>)(cs::<b>CountryStructure</b>) in CPIDataBase at <a href=\"https://github.com/DIE-BG/HEMI/tree/471d04a147fd6ddd666b2d55bc3271a5c675b30d//src/CPIDataBase/src/inflation/InflationFunction.jl#L75\" target=\"_blank\">C:\\Users\\Lenovo\\Documents\\Julia\\HEMI\\src\\CPIDataBase\\src\\inflation\\InflationFunction.jl:75</a></li> <li> (inflfn::<b>InflationFunction</b>)(cs::<b>CountryStructure</b>, ::<b>CPIVarInterm</b>) in CPIDataBase at <a href=\"https://github.com/DIE-BG/HEMI/tree/471d04a147fd6ddd666b2d55bc3271a5c675b30d//src/CPIDataBase/src/inflation/InflationFunction.jl#L86\" target=\"_blank\">C:\\Users\\Lenovo\\Documents\\Julia\\HEMI\\src\\CPIDataBase\\src\\inflation\\InflationFunction.jl:86</a></li> <li> (inflfn::<b>InflationFunction</b>)(cs::<b>CountryStructure</b>, ::<b>CPIIndex</b>) in CPIDataBase at <a href=\"https://github.com/DIE-BG/HEMI/tree/471d04a147fd6ddd666b2d55bc3271a5c675b30d//src/CPIDataBase/src/inflation/InflationFunction.jl#L80\" target=\"_blank\">C:\\Users\\Lenovo\\Documents\\Julia\\HEMI\\src\\CPIDataBase\\src\\inflation\\InflationFunction.jl:80</a></li> <li> (inflfn::<b>InflationTotalCPI</b>)(base::<b>VarCPIBase{T, T}</b>)<i> where T<:AbstractFloat</i> in CPIDataBase at <a href=\"https://github.com/DIE-BG/HEMI/tree/471d04a147fd6ddd666b2d55bc3271a5c675b30d//src/CPIDataBase/src/inflation/InflationFunction.jl#L115\" target=\"_blank\">C:\\Users\\Lenovo\\Documents\\Julia\\HEMI\\src\\CPIDataBase\\src\\inflation\\InflationFunction.jl:115</a></li> <li> (inflfn::<b>InflationTotalCPI</b>)(base::<b>VarCPIBase{T, B}</b>)<i> where {T<:AbstractFloat, B<:AbstractVector{T}}</i> in CPIDataBase at <a href=\"https://github.com/DIE-BG/HEMI/tree/471d04a147fd6ddd666b2d55bc3271a5c675b30d//src/CPIDataBase/src/inflation/InflationFunction.jl#L126\" target=\"_blank\">C:\\Users\\Lenovo\\Documents\\Julia\\HEMI\\src\\CPIDataBase\\src\\inflation\\InflationFunction.jl:126</a></li> <li> (inflfn::<b>InflationFunction</b>)(::<b>VarCPIBase</b>) in CPIDataBase at <a href=\"https://github.com/DIE-BG/HEMI/tree/471d04a147fd6ddd666b2d55bc3271a5c675b30d//src/CPIDataBase/src/inflation/InflationFunction.jl#L95\" target=\"_blank\">C:\\Users\\Lenovo\\Documents\\Julia\\HEMI\\src\\CPIDataBase\\src\\inflation\\InflationFunction.jl:95</a></li> </ul>"
     },
     "metadata": {},
     "execution_count": 31
    }
   ],
   "source": [
    "methods(totalfn)"
   ]
  },
  {
   "cell_type": "markdown",
   "metadata": {},
   "source": [
    "### Extendiendo una función de inflación\n",
    "\n",
    "La forma más simple de ejemplificar los métodos genéricos es extender nuestra función de inflación de media simple. Para que opere, simplemente tenemos que definir cómo debe operar sobre los objetos `VarCPIBase`, que contienen toda la información para computar la medida de inflación (estadística) de una base del IPC: la matriz de variaciones intermensuales y las ponderaciones."
   ]
  },
  {
   "cell_type": "code",
   "execution_count": 37,
   "metadata": {},
   "outputs": [],
   "source": [
    "using Statistics"
   ]
  },
  {
   "cell_type": "code",
   "execution_count": 32,
   "metadata": {},
   "outputs": [],
   "source": [
    "Base.@kwdef struct InflationMean <: InflationFunction\n",
    "    name::String = \"Media simple\"\n",
    "end\n",
    "\n",
    "    \n",
    "function (inflfn::InflationMean)(base::VarCPIBase)\n",
    "    mean(base.v; dims=2)\n",
    "end"
   ]
  },
  {
   "cell_type": "markdown",
   "metadata": {},
   "source": [
    "Ahora instanciamos nuestra función y computamos la medida de inflación: "
   ]
  },
  {
   "cell_type": "code",
   "execution_count": 33,
   "metadata": {},
   "outputs": [
    {
     "output_type": "execute_result",
     "data": {
      "text/plain": [
       "(::InflationMean) (generic function with 5 methods)"
      ]
     },
     "metadata": {},
     "execution_count": 33
    }
   ],
   "source": [
    "smeanfn = InflationMean()"
   ]
  },
  {
   "cell_type": "code",
   "execution_count": 34,
   "metadata": {},
   "outputs": [
    {
     "output_type": "execute_result",
     "data": {
      "text/plain": [
       "# 5 methods:\n",
       "[1] (inflfn::InflationFunction)(cs::CountryStructure) in CPIDataBase at C:\\Users\\Lenovo\\Documents\\Julia\\HEMI\\src\\CPIDataBase\\src\\inflation\\InflationFunction.jl:75\n",
       "[2] (inflfn::InflationFunction)(cs::CountryStructure, ::CPIVarInterm) in CPIDataBase at C:\\Users\\Lenovo\\Documents\\Julia\\HEMI\\src\\CPIDataBase\\src\\inflation\\InflationFunction.jl:86\n",
       "[3] (inflfn::InflationFunction)(cs::CountryStructure, ::CPIIndex) in CPIDataBase at C:\\Users\\Lenovo\\Documents\\Julia\\HEMI\\src\\CPIDataBase\\src\\inflation\\InflationFunction.jl:80\n",
       "[4] (inflfn::InflationMean)(base::VarCPIBase) in Main at In[32]:6\n",
       "[5] (inflfn::InflationFunction)(::VarCPIBase) in CPIDataBase at C:\\Users\\Lenovo\\Documents\\Julia\\HEMI\\src\\CPIDataBase\\src\\inflation\\InflationFunction.jl:95"
      ],
      "text/html": "# 5 methods:<ul><li> (inflfn::<b>InflationFunction</b>)(cs::<b>CountryStructure</b>) in CPIDataBase at <a href=\"https://github.com/DIE-BG/HEMI/tree/471d04a147fd6ddd666b2d55bc3271a5c675b30d//src/CPIDataBase/src/inflation/InflationFunction.jl#L75\" target=\"_blank\">C:\\Users\\Lenovo\\Documents\\Julia\\HEMI\\src\\CPIDataBase\\src\\inflation\\InflationFunction.jl:75</a></li> <li> (inflfn::<b>InflationFunction</b>)(cs::<b>CountryStructure</b>, ::<b>CPIVarInterm</b>) in CPIDataBase at <a href=\"https://github.com/DIE-BG/HEMI/tree/471d04a147fd6ddd666b2d55bc3271a5c675b30d//src/CPIDataBase/src/inflation/InflationFunction.jl#L86\" target=\"_blank\">C:\\Users\\Lenovo\\Documents\\Julia\\HEMI\\src\\CPIDataBase\\src\\inflation\\InflationFunction.jl:86</a></li> <li> (inflfn::<b>InflationFunction</b>)(cs::<b>CountryStructure</b>, ::<b>CPIIndex</b>) in CPIDataBase at <a href=\"https://github.com/DIE-BG/HEMI/tree/471d04a147fd6ddd666b2d55bc3271a5c675b30d//src/CPIDataBase/src/inflation/InflationFunction.jl#L80\" target=\"_blank\">C:\\Users\\Lenovo\\Documents\\Julia\\HEMI\\src\\CPIDataBase\\src\\inflation\\InflationFunction.jl:80</a></li> <li> (inflfn::<b>InflationMean</b>)(base::<b>VarCPIBase</b>) in Main at In[32]:6</li> <li> (inflfn::<b>InflationFunction</b>)(::<b>VarCPIBase</b>) in CPIDataBase at <a href=\"https://github.com/DIE-BG/HEMI/tree/471d04a147fd6ddd666b2d55bc3271a5c675b30d//src/CPIDataBase/src/inflation/InflationFunction.jl#L95\" target=\"_blank\">C:\\Users\\Lenovo\\Documents\\Julia\\HEMI\\src\\CPIDataBase\\src\\inflation\\InflationFunction.jl:95</a></li> </ul>"
     },
     "metadata": {},
     "execution_count": 34
    }
   ],
   "source": [
    "methods(smeanfn)"
   ]
  },
  {
   "cell_type": "markdown",
   "metadata": {},
   "source": [
    "Y computamos nuestra medida de inflación: "
   ]
  },
  {
   "cell_type": "code",
   "execution_count": 35,
   "metadata": {},
   "outputs": [
    {
     "output_type": "execute_result",
     "data": {
      "text/plain": [
       "242×1 Matrix{Float32}:\n",
       " 101.37316\n",
       " 102.22997\n",
       " 102.70309\n",
       " 103.21459\n",
       " 103.37779\n",
       " 104.35657\n",
       " 104.90865\n",
       " 105.85988\n",
       " 106.27217\n",
       " 107.289604\n",
       " 108.0507\n",
       " 108.59126\n",
       " 110.309105\n",
       "   ⋮\n",
       " 252.47475\n",
       " 252.81491\n",
       " 253.2265\n",
       " 254.79791\n",
       " 255.31139\n",
       " 255.66519\n",
       " 256.3217\n",
       " 257.5538\n",
       " 258.16998\n",
       " 259.079\n",
       " 259.69794\n",
       " 260.51715"
      ]
     },
     "metadata": {},
     "execution_count": 35
    }
   ],
   "source": [
    "smeanfn(gtdata, CPIIndex())"
   ]
  },
  {
   "cell_type": "markdown",
   "metadata": {},
   "source": [
    "El paquete `InflationFunctions`, cargado por el módulo `HEMI` alberga(rá) otras funciones de inflación. "
   ]
  },
  {
   "cell_type": "code",
   "execution_count": 43,
   "metadata": {},
   "outputs": [],
   "source": [
    "using InflationFunctions"
   ]
  },
  {
   "cell_type": "markdown",
   "metadata": {},
   "source": [
    "### Conjuntos y combinaciones"
   ]
  },
  {
   "cell_type": "markdown",
   "metadata": {},
   "source": [
    "Tenemos la siguiente función de combinación para computar varias medidas de inflación a la vez."
   ]
  },
  {
   "cell_type": "code",
   "execution_count": 37,
   "metadata": {},
   "outputs": [
    {
     "output_type": "execute_result",
     "data": {
      "text/plain": [
       "(::EnsembleFunction{26}) (generic function with 5 methods)"
      ]
     },
     "metadata": {},
     "execution_count": 37
    }
   ],
   "source": [
    "percfn = InflationPercentileEq.(60:85) |> Tuple |> EnsembleFunction"
   ]
  },
  {
   "cell_type": "code",
   "execution_count": 38,
   "metadata": {},
   "outputs": [
    {
     "output_type": "execute_result",
     "data": {
      "text/plain": [
       "242×26 Matrix{Float32}:\n",
       " 1.07        1.1122     1.1754     1.19       …  2.3011    2.4528    2.506\n",
       " 0.674125    0.706689   0.752199   0.764567      1.59622   1.65907   1.68661\n",
       " 0.408513    0.421583   0.428893   0.456405      1.19056   1.23997   1.27448\n",
       " 0.27178     0.289703   0.298526   0.318733      0.970116  1.07152   1.18509\n",
       " 0.263243    0.273525   0.282578   0.296934      0.666706  0.671     0.707696\n",
       " 0.364099    0.394026   0.415571   0.451913   …  1.20181   1.23759   1.26123\n",
       " 0.44562     0.461215   0.480141   0.485691      1.04128   1.07501   1.10611\n",
       " 0.934677    0.947381   0.965702   1.00398       1.88948   1.91935   1.96978\n",
       " 0.514002    0.52475    0.539286   0.571389      1.05105   1.09259   1.16587\n",
       " 0.705279    0.716616   0.724996   0.728649      1.17701   1.30023   1.39007\n",
       " 0.520556    0.553666   0.577255   0.602767   …  1.14805   1.17258   1.21618\n",
       " 0.406006    0.419903   0.442468   0.461203      1.08103   1.15501   1.25718\n",
       " 1.2369      1.29541    1.34434    1.36455       3.19402   3.28163   3.56671\n",
       " ⋮                                            ⋱                      ⋮\n",
       " 0.023712    0.0358611  0.0477656  0.0645833  …  0.449744  0.463122  0.519072\n",
       " 0.00860476  0.020492   0.0288768  0.0351931     0.368048  0.425126  0.493329\n",
       " 0.0398593   0.0458548  0.0568636  0.0637999     0.47012   0.499633  0.526985\n",
       " 0.0705112   0.0758807  0.083243   0.093657      0.380735  0.410164  0.452269\n",
       " 0.0412953   0.0483105  0.0519237  0.0598354     0.435177  0.504619  0.563148\n",
       " 0.0706602   0.0793535  0.0856794  0.0990457  …  0.467578  0.513716  0.544587\n",
       " 0.105799    0.117869   0.125633   0.132693      0.527239  0.569879  0.595972\n",
       " 0.082272    0.0869091  0.0931123  0.0977889     0.477078  0.48407   0.517046\n",
       " 0.0819808   0.0919696  0.105523   0.117086      0.578958  0.600697  0.653766\n",
       " 0.0582478   0.0664089  0.0737052  0.0819732     0.573963  0.597351  0.630551\n",
       " 0.122409    0.128532   0.14087    0.147812   …  0.654042  0.68419   0.744455\n",
       " 0.137208    0.146663   0.155022   0.172729      0.617174  0.631074  0.666594"
      ]
     },
     "metadata": {},
     "execution_count": 38
    }
   ],
   "source": [
    "percfn(gtdata, CPIVarInterm())"
   ]
  },
  {
   "cell_type": "markdown",
   "metadata": {},
   "source": [
    "Tenemos la siguiente función de combinación para computar varias medidas de inflación a la vez y combinarlas."
   ]
  },
  {
   "cell_type": "code",
   "execution_count": 39,
   "metadata": {},
   "outputs": [
    {
     "output_type": "execute_result",
     "data": {
      "text/plain": [
       "(::CombinationFunction{26, Vector{Float64}}) (generic function with 6 methods)"
      ]
     },
     "metadata": {},
     "execution_count": 39
    }
   ],
   "source": [
    "combfn = CombinationFunction(percfn, repeat([1/26], 26))"
   ]
  },
  {
   "cell_type": "code",
   "execution_count": 40,
   "metadata": {},
   "outputs": [
    {
     "output_type": "execute_result",
     "data": {
      "text/plain": [
       "231-element Vector{Float64}:\n",
       " 11.34380472623385\n",
       " 11.903379788765543\n",
       " 12.024603018393885\n",
       " 11.997757911682129\n",
       " 12.050973983911371\n",
       " 12.035496895129864\n",
       " 11.791389318612906\n",
       " 11.583950941379255\n",
       " 10.523738384246826\n",
       " 10.083759637979362\n",
       "  9.576842803221483\n",
       "  9.172336908487173\n",
       "  8.861493954291712\n",
       "  ⋮\n",
       "  2.7457040089827323\n",
       "  2.6643743881812463\n",
       "  2.6364528215848484\n",
       "  2.571739600254939\n",
       "  2.557912698158851\n",
       "  2.6061278123122\n",
       "  2.6973660175616923\n",
       "  2.7052232852348914\n",
       "  2.7654294784252462\n",
       "  2.826487559538621\n",
       "  2.9252368670243483\n",
       "  3.104033836951623"
      ]
     },
     "metadata": {},
     "execution_count": 40
    }
   ],
   "source": [
    "combfn(gtdata)"
   ]
  },
  {
   "cell_type": "markdown",
   "metadata": {},
   "source": [
    "## Generación de trayectorias de simulación \n",
    "\n",
    "Como vimos en la presentación, la generación de trayectorias en Julia es mucho más rápida. "
   ]
  },
  {
   "cell_type": "code",
   "execution_count": 44,
   "metadata": {},
   "outputs": [],
   "source": [
    "using InflationEvalTools\n",
    "using Plots"
   ]
  },
  {
   "cell_type": "code",
   "execution_count": 50,
   "metadata": {},
   "outputs": [
    {
     "output_type": "execute_result",
     "data": {
      "text/plain": [
       "UniformCountryStructure{2, Float32, Float32} con 2 bases\n",
       "|─> VarCPIBase{Float32, Float32}: 120 períodos × 218 gastos básicos Jan-2001-Dec-2010\n",
       "|─> VarCPIBase{Float32, Float32}: 120 períodos × 279 gastos básicos Jan-2011-Dec-2020\n"
      ]
     },
     "metadata": {},
     "execution_count": 50
    }
   ],
   "source": [
    "gtdata_eval = gtdata[Date(2020,12)]"
   ]
  },
  {
   "cell_type": "code",
   "execution_count": 45,
   "metadata": {},
   "outputs": [],
   "source": [
    "resamplefn = ResampleSBB(36)\n",
    "trendfn = TrendIdentity()"
   ]
  },
  {
   "cell_type": "code",
   "execution_count": 51,
   "metadata": {},
   "outputs": [
    {
     "output_type": "stream",
     "name": "stderr",
     "text": [
      "\u001b[32mProgress: 100%|█████████████████████████████████████████| Time: 0:00:07\u001b[39m\n"
     ]
    },
    {
     "output_type": "execute_result",
     "data": {
      "text/plain": [
       "(229, 1, 10000)"
      ]
     },
     "metadata": {},
     "execution_count": 51
    }
   ],
   "source": [
    "tray_infl = gentrayinfl(totalfn, resamplefn, trendfn, gtdata_eval, K = 10_000); \n",
    "size(tray_infl)"
   ]
  },
  {
   "cell_type": "code",
   "execution_count": 52,
   "metadata": {},
   "outputs": [
    {
     "output_type": "execute_result",
     "data": {
      "image/svg+xml": "<?xml version=\"1.0\" encoding=\"utf-8\"?>\n<svg xmlns=\"http://www.w3.org/2000/svg\" xmlns:xlink=\"http://www.w3.org/1999/xlink\" width=\"600\" height=\"400\" viewBox=\"0 0 2400 1600\">\n<defs>\n  <clipPath id=\"clip730\">\n    <rect x=\"0\" y=\"0\" width=\"2400\" height=\"1600\"/>\n  </clipPath>\n</defs>\n<path clip-path=\"url(#clip730)\" d=\"\nM0 1600 L2400 1600 L2400 0 L0 0  Z\n  \" fill=\"#ffffff\" fill-rule=\"evenodd\" fill-opacity=\"1\"/>\n<defs>\n  <clipPath id=\"clip731\">\n    <rect x=\"480\" y=\"0\" width=\"1681\" height=\"1600\"/>\n  </clipPath>\n</defs>\n<path clip-path=\"url(#clip730)\" d=\"\nM112.177 1486.45 L2352.76 1486.45 L2352.76 47.2441 L112.177 47.2441  Z\n  \" fill=\"#ffffff\" fill-rule=\"evenodd\" fill-opacity=\"1\"/>\n<defs>\n  <clipPath id=\"clip732\">\n    <rect x=\"112\" y=\"47\" width=\"2242\" height=\"1440\"/>\n  </clipPath>\n</defs>\n<polyline clip-path=\"url(#clip732)\" style=\"stroke:#000000; stroke-linecap:butt; stroke-linejoin:round; stroke-width:2; stroke-opacity:0.1; fill:none\" points=\"\n  185.032,1486.45 185.032,47.2441 \n  \"/>\n<polyline clip-path=\"url(#clip732)\" style=\"stroke:#000000; stroke-linecap:butt; stroke-linejoin:round; stroke-width:2; stroke-opacity:0.1; fill:none\" points=\"\n  741.186,1486.45 741.186,47.2441 \n  \"/>\n<polyline clip-path=\"url(#clip732)\" style=\"stroke:#000000; stroke-linecap:butt; stroke-linejoin:round; stroke-width:2; stroke-opacity:0.1; fill:none\" points=\"\n  1297.34,1486.45 1297.34,47.2441 \n  \"/>\n<polyline clip-path=\"url(#clip732)\" style=\"stroke:#000000; stroke-linecap:butt; stroke-linejoin:round; stroke-width:2; stroke-opacity:0.1; fill:none\" points=\"\n  1853.8,1486.45 1853.8,47.2441 \n  \"/>\n<polyline clip-path=\"url(#clip730)\" style=\"stroke:#000000; stroke-linecap:butt; stroke-linejoin:round; stroke-width:4; stroke-opacity:1; fill:none\" points=\"\n  112.177,1486.45 2352.76,1486.45 \n  \"/>\n<polyline clip-path=\"url(#clip730)\" style=\"stroke:#000000; stroke-linecap:butt; stroke-linejoin:round; stroke-width:4; stroke-opacity:1; fill:none\" points=\"\n  185.032,1486.45 185.032,1469.18 \n  \"/>\n<polyline clip-path=\"url(#clip730)\" style=\"stroke:#000000; stroke-linecap:butt; stroke-linejoin:round; stroke-width:4; stroke-opacity:1; fill:none\" points=\"\n  741.186,1486.45 741.186,1469.18 \n  \"/>\n<polyline clip-path=\"url(#clip730)\" style=\"stroke:#000000; stroke-linecap:butt; stroke-linejoin:round; stroke-width:4; stroke-opacity:1; fill:none\" points=\"\n  1297.34,1486.45 1297.34,1469.18 \n  \"/>\n<polyline clip-path=\"url(#clip730)\" style=\"stroke:#000000; stroke-linecap:butt; stroke-linejoin:round; stroke-width:4; stroke-opacity:1; fill:none\" points=\"\n  1853.8,1486.45 1853.8,1469.18 \n  \"/>\n<path clip-path=\"url(#clip730)\" d=\"M56.8263 1543.18 L73.1456 1543.18 L73.1456 1547.12 L51.2013 1547.12 L51.2013 1543.18 Q53.8633 1540.43 58.4467 1535.8 Q63.0531 1531.15 64.2337 1529.81 Q66.479 1527.28 67.3586 1525.55 Q68.2614 1523.79 68.2614 1522.1 Q68.2614 1519.34 66.317 1517.61 Q64.3957 1515.87 61.2939 1515.87 Q59.0948 1515.87 56.6411 1516.63 Q54.2106 1517.4 51.4328 1518.95 L51.4328 1514.23 Q54.2569 1513.09 56.7105 1512.51 Q59.1642 1511.93 61.2013 1511.93 Q66.5716 1511.93 69.766 1514.62 Q72.9605 1517.31 72.9605 1521.8 Q72.9605 1523.93 72.1503 1525.85 Q71.3632 1527.74 69.2568 1530.34 Q68.6781 1531.01 65.5762 1534.23 Q62.4744 1537.42 56.8263 1543.18 Z\" fill=\"#000000\" fill-rule=\"evenodd\" fill-opacity=\"1\" /><path clip-path=\"url(#clip730)\" d=\"M92.9604 1515.64 Q89.3493 1515.64 87.5206 1519.2 Q85.715 1522.75 85.715 1529.87 Q85.715 1536.98 87.5206 1540.55 Q89.3493 1544.09 92.9604 1544.09 Q96.5946 1544.09 98.4001 1540.55 Q100.229 1536.98 100.229 1529.87 Q100.229 1522.75 98.4001 1519.2 Q96.5946 1515.64 92.9604 1515.64 M92.9604 1511.93 Q98.7705 1511.93 101.826 1516.54 Q104.905 1521.12 104.905 1529.87 Q104.905 1538.6 101.826 1543.21 Q98.7705 1547.79 92.9604 1547.79 Q87.1502 1547.79 84.0715 1543.21 Q81.016 1538.6 81.016 1529.87 Q81.016 1521.12 84.0715 1516.54 Q87.1502 1511.93 92.9604 1511.93 Z\" fill=\"#000000\" fill-rule=\"evenodd\" fill-opacity=\"1\" /><path clip-path=\"url(#clip730)\" d=\"M123.122 1515.64 Q119.511 1515.64 117.682 1519.2 Q115.877 1522.75 115.877 1529.87 Q115.877 1536.98 117.682 1540.55 Q119.511 1544.09 123.122 1544.09 Q126.756 1544.09 128.562 1540.55 Q130.391 1536.98 130.391 1529.87 Q130.391 1522.75 128.562 1519.2 Q126.756 1515.64 123.122 1515.64 M123.122 1511.93 Q128.932 1511.93 131.988 1516.54 Q135.067 1521.12 135.067 1529.87 Q135.067 1538.6 131.988 1543.21 Q128.932 1547.79 123.122 1547.79 Q117.312 1547.79 114.233 1543.21 Q111.178 1538.6 111.178 1529.87 Q111.178 1521.12 114.233 1516.54 Q117.312 1511.93 123.122 1511.93 Z\" fill=\"#000000\" fill-rule=\"evenodd\" fill-opacity=\"1\" /><path clip-path=\"url(#clip730)\" d=\"M147.312 1543.18 L163.631 1543.18 L163.631 1547.12 L141.687 1547.12 L141.687 1543.18 Q144.349 1540.43 148.932 1535.8 Q153.539 1531.15 154.719 1529.81 Q156.965 1527.28 157.844 1525.55 Q158.747 1523.79 158.747 1522.1 Q158.747 1519.34 156.803 1517.61 Q154.881 1515.87 151.779 1515.87 Q149.58 1515.87 147.127 1516.63 Q144.696 1517.4 141.918 1518.95 L141.918 1514.23 Q144.742 1513.09 147.196 1512.51 Q149.65 1511.93 151.687 1511.93 Q157.057 1511.93 160.252 1514.62 Q163.446 1517.31 163.446 1521.8 Q163.446 1523.93 162.636 1525.85 Q161.849 1527.74 159.742 1530.34 Q159.164 1531.01 156.062 1534.23 Q152.96 1537.42 147.312 1543.18 Z\" fill=\"#000000\" fill-rule=\"evenodd\" fill-opacity=\"1\" /><path clip-path=\"url(#clip730)\" d=\"M170.691 1532.24 L183.168 1532.24 L183.168 1536.03 L170.691 1536.03 L170.691 1532.24 Z\" fill=\"#000000\" fill-rule=\"evenodd\" fill-opacity=\"1\" /><path clip-path=\"url(#clip730)\" d=\"M200.552 1515.64 Q196.941 1515.64 195.113 1519.2 Q193.307 1522.75 193.307 1529.87 Q193.307 1536.98 195.113 1540.55 Q196.941 1544.09 200.552 1544.09 Q204.187 1544.09 205.992 1540.55 Q207.821 1536.98 207.821 1529.87 Q207.821 1522.75 205.992 1519.2 Q204.187 1515.64 200.552 1515.64 M200.552 1511.93 Q206.363 1511.93 209.418 1516.54 Q212.497 1521.12 212.497 1529.87 Q212.497 1538.6 209.418 1543.21 Q206.363 1547.79 200.552 1547.79 Q194.742 1547.79 191.664 1543.21 Q188.608 1538.6 188.608 1529.87 Q188.608 1521.12 191.664 1516.54 Q194.742 1511.93 200.552 1511.93 Z\" fill=\"#000000\" fill-rule=\"evenodd\" fill-opacity=\"1\" /><path clip-path=\"url(#clip730)\" d=\"M221.524 1543.18 L229.163 1543.18 L229.163 1516.82 L220.853 1518.49 L220.853 1514.23 L229.117 1512.56 L233.793 1512.56 L233.793 1543.18 L241.432 1543.18 L241.432 1547.12 L221.524 1547.12 L221.524 1543.18 Z\" fill=\"#000000\" fill-rule=\"evenodd\" fill-opacity=\"1\" /><path clip-path=\"url(#clip730)\" d=\"M248.122 1532.24 L260.598 1532.24 L260.598 1536.03 L248.122 1536.03 L248.122 1532.24 Z\" fill=\"#000000\" fill-rule=\"evenodd\" fill-opacity=\"1\" /><path clip-path=\"url(#clip730)\" d=\"M277.983 1515.64 Q274.371 1515.64 272.543 1519.2 Q270.737 1522.75 270.737 1529.87 Q270.737 1536.98 272.543 1540.55 Q274.371 1544.09 277.983 1544.09 Q281.617 1544.09 283.422 1540.55 Q285.251 1536.98 285.251 1529.87 Q285.251 1522.75 283.422 1519.2 Q281.617 1515.64 277.983 1515.64 M277.983 1511.93 Q283.793 1511.93 286.848 1516.54 Q289.927 1521.12 289.927 1529.87 Q289.927 1538.6 286.848 1543.21 Q283.793 1547.79 277.983 1547.79 Q272.172 1547.79 269.094 1543.21 Q266.038 1538.6 266.038 1529.87 Q266.038 1521.12 269.094 1516.54 Q272.172 1511.93 277.983 1511.93 Z\" fill=\"#000000\" fill-rule=\"evenodd\" fill-opacity=\"1\" /><path clip-path=\"url(#clip730)\" d=\"M298.955 1543.18 L306.593 1543.18 L306.593 1516.82 L298.283 1518.49 L298.283 1514.23 L306.547 1512.56 L311.223 1512.56 L311.223 1543.18 L318.862 1543.18 L318.862 1547.12 L298.955 1547.12 L298.955 1543.18 Z\" fill=\"#000000\" fill-rule=\"evenodd\" fill-opacity=\"1\" /><path clip-path=\"url(#clip730)\" d=\"M612.981 1543.18 L629.3 1543.18 L629.3 1547.12 L607.356 1547.12 L607.356 1543.18 Q610.018 1540.43 614.601 1535.8 Q619.208 1531.15 620.388 1529.81 Q622.634 1527.28 623.513 1525.55 Q624.416 1523.79 624.416 1522.1 Q624.416 1519.34 622.472 1517.61 Q620.55 1515.87 617.449 1515.87 Q615.25 1515.87 612.796 1516.63 Q610.365 1517.4 607.588 1518.95 L607.588 1514.23 Q610.412 1513.09 612.865 1512.51 Q615.319 1511.93 617.356 1511.93 Q622.726 1511.93 625.921 1514.62 Q629.115 1517.31 629.115 1521.8 Q629.115 1523.93 628.305 1525.85 Q627.518 1527.74 625.412 1530.34 Q624.833 1531.01 621.731 1534.23 Q618.629 1537.42 612.981 1543.18 Z\" fill=\"#000000\" fill-rule=\"evenodd\" fill-opacity=\"1\" /><path clip-path=\"url(#clip730)\" d=\"M649.115 1515.64 Q645.504 1515.64 643.675 1519.2 Q641.87 1522.75 641.87 1529.87 Q641.87 1536.98 643.675 1540.55 Q645.504 1544.09 649.115 1544.09 Q652.749 1544.09 654.555 1540.55 Q656.384 1536.98 656.384 1529.87 Q656.384 1522.75 654.555 1519.2 Q652.749 1515.64 649.115 1515.64 M649.115 1511.93 Q654.925 1511.93 657.981 1516.54 Q661.059 1521.12 661.059 1529.87 Q661.059 1538.6 657.981 1543.21 Q654.925 1547.79 649.115 1547.79 Q643.305 1547.79 640.226 1543.21 Q637.171 1538.6 637.171 1529.87 Q637.171 1521.12 640.226 1516.54 Q643.305 1511.93 649.115 1511.93 Z\" fill=\"#000000\" fill-rule=\"evenodd\" fill-opacity=\"1\" /><path clip-path=\"url(#clip730)\" d=\"M679.277 1515.64 Q675.666 1515.64 673.837 1519.2 Q672.032 1522.75 672.032 1529.87 Q672.032 1536.98 673.837 1540.55 Q675.666 1544.09 679.277 1544.09 Q682.911 1544.09 684.717 1540.55 Q686.545 1536.98 686.545 1529.87 Q686.545 1522.75 684.717 1519.2 Q682.911 1515.64 679.277 1515.64 M679.277 1511.93 Q685.087 1511.93 688.143 1516.54 Q691.221 1521.12 691.221 1529.87 Q691.221 1538.6 688.143 1543.21 Q685.087 1547.79 679.277 1547.79 Q673.467 1547.79 670.388 1543.21 Q667.333 1538.6 667.333 1529.87 Q667.333 1521.12 670.388 1516.54 Q673.467 1511.93 679.277 1511.93 Z\" fill=\"#000000\" fill-rule=\"evenodd\" fill-opacity=\"1\" /><path clip-path=\"url(#clip730)\" d=\"M698.258 1512.56 L720.48 1512.56 L720.48 1514.55 L707.934 1547.12 L703.05 1547.12 L714.855 1516.5 L698.258 1516.5 L698.258 1512.56 Z\" fill=\"#000000\" fill-rule=\"evenodd\" fill-opacity=\"1\" /><path clip-path=\"url(#clip730)\" d=\"M726.846 1532.24 L739.323 1532.24 L739.323 1536.03 L726.846 1536.03 L726.846 1532.24 Z\" fill=\"#000000\" fill-rule=\"evenodd\" fill-opacity=\"1\" /><path clip-path=\"url(#clip730)\" d=\"M756.707 1515.64 Q753.096 1515.64 751.267 1519.2 Q749.462 1522.75 749.462 1529.87 Q749.462 1536.98 751.267 1540.55 Q753.096 1544.09 756.707 1544.09 Q760.341 1544.09 762.147 1540.55 Q763.976 1536.98 763.976 1529.87 Q763.976 1522.75 762.147 1519.2 Q760.341 1515.64 756.707 1515.64 M756.707 1511.93 Q762.517 1511.93 765.573 1516.54 Q768.651 1521.12 768.651 1529.87 Q768.651 1538.6 765.573 1543.21 Q762.517 1547.79 756.707 1547.79 Q750.897 1547.79 747.818 1543.21 Q744.763 1538.6 744.763 1529.87 Q744.763 1521.12 747.818 1516.54 Q750.897 1511.93 756.707 1511.93 Z\" fill=\"#000000\" fill-rule=\"evenodd\" fill-opacity=\"1\" /><path clip-path=\"url(#clip730)\" d=\"M777.679 1543.18 L785.318 1543.18 L785.318 1516.82 L777.008 1518.49 L777.008 1514.23 L785.272 1512.56 L789.948 1512.56 L789.948 1543.18 L797.587 1543.18 L797.587 1547.12 L777.679 1547.12 L777.679 1543.18 Z\" fill=\"#000000\" fill-rule=\"evenodd\" fill-opacity=\"1\" /><path clip-path=\"url(#clip730)\" d=\"M804.276 1532.24 L816.753 1532.24 L816.753 1536.03 L804.276 1536.03 L804.276 1532.24 Z\" fill=\"#000000\" fill-rule=\"evenodd\" fill-opacity=\"1\" /><path clip-path=\"url(#clip730)\" d=\"M834.137 1515.64 Q830.526 1515.64 828.697 1519.2 Q826.892 1522.75 826.892 1529.87 Q826.892 1536.98 828.697 1540.55 Q830.526 1544.09 834.137 1544.09 Q837.771 1544.09 839.577 1540.55 Q841.406 1536.98 841.406 1529.87 Q841.406 1522.75 839.577 1519.2 Q837.771 1515.64 834.137 1515.64 M834.137 1511.93 Q839.947 1511.93 843.003 1516.54 Q846.082 1521.12 846.082 1529.87 Q846.082 1538.6 843.003 1543.21 Q839.947 1547.79 834.137 1547.79 Q828.327 1547.79 825.248 1543.21 Q822.193 1538.6 822.193 1529.87 Q822.193 1521.12 825.248 1516.54 Q828.327 1511.93 834.137 1511.93 Z\" fill=\"#000000\" fill-rule=\"evenodd\" fill-opacity=\"1\" /><path clip-path=\"url(#clip730)\" d=\"M855.109 1543.18 L862.748 1543.18 L862.748 1516.82 L854.438 1518.49 L854.438 1514.23 L862.702 1512.56 L867.378 1512.56 L867.378 1543.18 L875.017 1543.18 L875.017 1547.12 L855.109 1547.12 L855.109 1543.18 Z\" fill=\"#000000\" fill-rule=\"evenodd\" fill-opacity=\"1\" /><path clip-path=\"url(#clip730)\" d=\"M1169.14 1543.18 L1185.46 1543.18 L1185.46 1547.12 L1163.51 1547.12 L1163.51 1543.18 Q1166.17 1540.43 1170.76 1535.8 Q1175.36 1531.15 1176.54 1529.81 Q1178.79 1527.28 1179.67 1525.55 Q1180.57 1523.79 1180.57 1522.1 Q1180.57 1519.34 1178.63 1517.61 Q1176.71 1515.87 1173.6 1515.87 Q1171.4 1515.87 1168.95 1516.63 Q1166.52 1517.4 1163.74 1518.95 L1163.74 1514.23 Q1166.57 1513.09 1169.02 1512.51 Q1171.47 1511.93 1173.51 1511.93 Q1178.88 1511.93 1182.08 1514.62 Q1185.27 1517.31 1185.27 1521.8 Q1185.27 1523.93 1184.46 1525.85 Q1183.67 1527.74 1181.57 1530.34 Q1180.99 1531.01 1177.89 1534.23 Q1174.78 1537.42 1169.14 1543.18 Z\" fill=\"#000000\" fill-rule=\"evenodd\" fill-opacity=\"1\" /><path clip-path=\"url(#clip730)\" d=\"M1205.27 1515.64 Q1201.66 1515.64 1199.83 1519.2 Q1198.02 1522.75 1198.02 1529.87 Q1198.02 1536.98 1199.83 1540.55 Q1201.66 1544.09 1205.27 1544.09 Q1208.9 1544.09 1210.71 1540.55 Q1212.54 1536.98 1212.54 1529.87 Q1212.54 1522.75 1210.71 1519.2 Q1208.9 1515.64 1205.27 1515.64 M1205.27 1511.93 Q1211.08 1511.93 1214.14 1516.54 Q1217.21 1521.12 1217.21 1529.87 Q1217.21 1538.6 1214.14 1543.21 Q1211.08 1547.79 1205.27 1547.79 Q1199.46 1547.79 1196.38 1543.21 Q1193.33 1538.6 1193.33 1529.87 Q1193.33 1521.12 1196.38 1516.54 Q1199.46 1511.93 1205.27 1511.93 Z\" fill=\"#000000\" fill-rule=\"evenodd\" fill-opacity=\"1\" /><path clip-path=\"url(#clip730)\" d=\"M1226.24 1543.18 L1233.88 1543.18 L1233.88 1516.82 L1225.57 1518.49 L1225.57 1514.23 L1233.83 1512.56 L1238.51 1512.56 L1238.51 1543.18 L1246.15 1543.18 L1246.15 1547.12 L1226.24 1547.12 L1226.24 1543.18 Z\" fill=\"#000000\" fill-rule=\"evenodd\" fill-opacity=\"1\" /><path clip-path=\"url(#clip730)\" d=\"M1259.62 1543.18 L1275.94 1543.18 L1275.94 1547.12 L1254 1547.12 L1254 1543.18 Q1256.66 1540.43 1261.24 1535.8 Q1265.85 1531.15 1267.03 1529.81 Q1269.27 1527.28 1270.15 1525.55 Q1271.06 1523.79 1271.06 1522.1 Q1271.06 1519.34 1269.11 1517.61 Q1267.19 1515.87 1264.09 1515.87 Q1261.89 1515.87 1259.44 1516.63 Q1257.01 1517.4 1254.23 1518.95 L1254.23 1514.23 Q1257.05 1513.09 1259.51 1512.51 Q1261.96 1511.93 1264 1511.93 Q1269.37 1511.93 1272.56 1514.62 Q1275.76 1517.31 1275.76 1521.8 Q1275.76 1523.93 1274.95 1525.85 Q1274.16 1527.74 1272.05 1530.34 Q1271.47 1531.01 1268.37 1534.23 Q1265.27 1537.42 1259.62 1543.18 Z\" fill=\"#000000\" fill-rule=\"evenodd\" fill-opacity=\"1\" /><path clip-path=\"url(#clip730)\" d=\"M1283 1532.24 L1295.48 1532.24 L1295.48 1536.03 L1283 1536.03 L1283 1532.24 Z\" fill=\"#000000\" fill-rule=\"evenodd\" fill-opacity=\"1\" /><path clip-path=\"url(#clip730)\" d=\"M1312.86 1515.64 Q1309.25 1515.64 1307.42 1519.2 Q1305.62 1522.75 1305.62 1529.87 Q1305.62 1536.98 1307.42 1540.55 Q1309.25 1544.09 1312.86 1544.09 Q1316.5 1544.09 1318.3 1540.55 Q1320.13 1536.98 1320.13 1529.87 Q1320.13 1522.75 1318.3 1519.2 Q1316.5 1515.64 1312.86 1515.64 M1312.86 1511.93 Q1318.67 1511.93 1321.73 1516.54 Q1324.81 1521.12 1324.81 1529.87 Q1324.81 1538.6 1321.73 1543.21 Q1318.67 1547.79 1312.86 1547.79 Q1307.05 1547.79 1303.97 1543.21 Q1300.92 1538.6 1300.92 1529.87 Q1300.92 1521.12 1303.97 1516.54 Q1307.05 1511.93 1312.86 1511.93 Z\" fill=\"#000000\" fill-rule=\"evenodd\" fill-opacity=\"1\" /><path clip-path=\"url(#clip730)\" d=\"M1333.83 1543.18 L1341.47 1543.18 L1341.47 1516.82 L1333.16 1518.49 L1333.16 1514.23 L1341.43 1512.56 L1346.1 1512.56 L1346.1 1543.18 L1353.74 1543.18 L1353.74 1547.12 L1333.83 1547.12 L1333.83 1543.18 Z\" fill=\"#000000\" fill-rule=\"evenodd\" fill-opacity=\"1\" /><path clip-path=\"url(#clip730)\" d=\"M1360.43 1532.24 L1372.91 1532.24 L1372.91 1536.03 L1360.43 1536.03 L1360.43 1532.24 Z\" fill=\"#000000\" fill-rule=\"evenodd\" fill-opacity=\"1\" /><path clip-path=\"url(#clip730)\" d=\"M1390.29 1515.64 Q1386.68 1515.64 1384.85 1519.2 Q1383.05 1522.75 1383.05 1529.87 Q1383.05 1536.98 1384.85 1540.55 Q1386.68 1544.09 1390.29 1544.09 Q1393.93 1544.09 1395.73 1540.55 Q1397.56 1536.98 1397.56 1529.87 Q1397.56 1522.75 1395.73 1519.2 Q1393.93 1515.64 1390.29 1515.64 M1390.29 1511.93 Q1396.1 1511.93 1399.16 1516.54 Q1402.24 1521.12 1402.24 1529.87 Q1402.24 1538.6 1399.16 1543.21 Q1396.1 1547.79 1390.29 1547.79 Q1384.48 1547.79 1381.4 1543.21 Q1378.35 1538.6 1378.35 1529.87 Q1378.35 1521.12 1381.4 1516.54 Q1384.48 1511.93 1390.29 1511.93 Z\" fill=\"#000000\" fill-rule=\"evenodd\" fill-opacity=\"1\" /><path clip-path=\"url(#clip730)\" d=\"M1411.26 1543.18 L1418.9 1543.18 L1418.9 1516.82 L1410.59 1518.49 L1410.59 1514.23 L1418.86 1512.56 L1423.53 1512.56 L1423.53 1543.18 L1431.17 1543.18 L1431.17 1547.12 L1411.26 1547.12 L1411.26 1543.18 Z\" fill=\"#000000\" fill-rule=\"evenodd\" fill-opacity=\"1\" /><path clip-path=\"url(#clip730)\" d=\"M1725.6 1543.18 L1741.91 1543.18 L1741.91 1547.12 L1719.97 1547.12 L1719.97 1543.18 Q1722.63 1540.43 1727.22 1535.8 Q1731.82 1531.15 1733 1529.81 Q1735.25 1527.28 1736.13 1525.55 Q1737.03 1523.79 1737.03 1522.1 Q1737.03 1519.34 1735.09 1517.61 Q1733.16 1515.87 1730.06 1515.87 Q1727.86 1515.87 1725.41 1516.63 Q1722.98 1517.4 1720.2 1518.95 L1720.2 1514.23 Q1723.03 1513.09 1725.48 1512.51 Q1727.93 1511.93 1729.97 1511.93 Q1735.34 1511.93 1738.53 1514.62 Q1741.73 1517.31 1741.73 1521.8 Q1741.73 1523.93 1740.92 1525.85 Q1740.13 1527.74 1738.03 1530.34 Q1737.45 1531.01 1734.35 1534.23 Q1731.24 1537.42 1725.6 1543.18 Z\" fill=\"#000000\" fill-rule=\"evenodd\" fill-opacity=\"1\" /><path clip-path=\"url(#clip730)\" d=\"M1761.73 1515.64 Q1758.12 1515.64 1756.29 1519.2 Q1754.48 1522.75 1754.48 1529.87 Q1754.48 1536.98 1756.29 1540.55 Q1758.12 1544.09 1761.73 1544.09 Q1765.36 1544.09 1767.17 1540.55 Q1769 1536.98 1769 1529.87 Q1769 1522.75 1767.17 1519.2 Q1765.36 1515.64 1761.73 1515.64 M1761.73 1511.93 Q1767.54 1511.93 1770.59 1516.54 Q1773.67 1521.12 1773.67 1529.87 Q1773.67 1538.6 1770.59 1543.21 Q1767.54 1547.79 1761.73 1547.79 Q1755.92 1547.79 1752.84 1543.21 Q1749.78 1538.6 1749.78 1529.87 Q1749.78 1521.12 1752.84 1516.54 Q1755.92 1511.93 1761.73 1511.93 Z\" fill=\"#000000\" fill-rule=\"evenodd\" fill-opacity=\"1\" /><path clip-path=\"url(#clip730)\" d=\"M1782.7 1543.18 L1790.34 1543.18 L1790.34 1516.82 L1782.03 1518.49 L1782.03 1514.23 L1790.29 1512.56 L1794.97 1512.56 L1794.97 1543.18 L1802.61 1543.18 L1802.61 1547.12 L1782.7 1547.12 L1782.7 1543.18 Z\" fill=\"#000000\" fill-rule=\"evenodd\" fill-opacity=\"1\" /><path clip-path=\"url(#clip730)\" d=\"M1810.87 1512.56 L1833.09 1512.56 L1833.09 1514.55 L1820.55 1547.12 L1815.66 1547.12 L1827.47 1516.5 L1810.87 1516.5 L1810.87 1512.56 Z\" fill=\"#000000\" fill-rule=\"evenodd\" fill-opacity=\"1\" /><path clip-path=\"url(#clip730)\" d=\"M1839.46 1532.24 L1851.94 1532.24 L1851.94 1536.03 L1839.46 1536.03 L1839.46 1532.24 Z\" fill=\"#000000\" fill-rule=\"evenodd\" fill-opacity=\"1\" /><path clip-path=\"url(#clip730)\" d=\"M1869.32 1515.64 Q1865.71 1515.64 1863.88 1519.2 Q1862.08 1522.75 1862.08 1529.87 Q1862.08 1536.98 1863.88 1540.55 Q1865.71 1544.09 1869.32 1544.09 Q1872.96 1544.09 1874.76 1540.55 Q1876.59 1536.98 1876.59 1529.87 Q1876.59 1522.75 1874.76 1519.2 Q1872.96 1515.64 1869.32 1515.64 M1869.32 1511.93 Q1875.13 1511.93 1878.19 1516.54 Q1881.27 1521.12 1881.27 1529.87 Q1881.27 1538.6 1878.19 1543.21 Q1875.13 1547.79 1869.32 1547.79 Q1863.51 1547.79 1860.43 1543.21 Q1857.38 1538.6 1857.38 1529.87 Q1857.38 1521.12 1860.43 1516.54 Q1863.51 1511.93 1869.32 1511.93 Z\" fill=\"#000000\" fill-rule=\"evenodd\" fill-opacity=\"1\" /><path clip-path=\"url(#clip730)\" d=\"M1890.29 1543.18 L1897.93 1543.18 L1897.93 1516.82 L1889.62 1518.49 L1889.62 1514.23 L1897.89 1512.56 L1902.56 1512.56 L1902.56 1543.18 L1910.2 1543.18 L1910.2 1547.12 L1890.29 1547.12 L1890.29 1543.18 Z\" fill=\"#000000\" fill-rule=\"evenodd\" fill-opacity=\"1\" /><path clip-path=\"url(#clip730)\" d=\"M1916.89 1532.24 L1929.37 1532.24 L1929.37 1536.03 L1916.89 1536.03 L1916.89 1532.24 Z\" fill=\"#000000\" fill-rule=\"evenodd\" fill-opacity=\"1\" /><path clip-path=\"url(#clip730)\" d=\"M1946.75 1515.64 Q1943.14 1515.64 1941.31 1519.2 Q1939.51 1522.75 1939.51 1529.87 Q1939.51 1536.98 1941.31 1540.55 Q1943.14 1544.09 1946.75 1544.09 Q1950.39 1544.09 1952.19 1540.55 Q1954.02 1536.98 1954.02 1529.87 Q1954.02 1522.75 1952.19 1519.2 Q1950.39 1515.64 1946.75 1515.64 M1946.75 1511.93 Q1952.56 1511.93 1955.62 1516.54 Q1958.7 1521.12 1958.7 1529.87 Q1958.7 1538.6 1955.62 1543.21 Q1952.56 1547.79 1946.75 1547.79 Q1940.94 1547.79 1937.86 1543.21 Q1934.81 1538.6 1934.81 1529.87 Q1934.81 1521.12 1937.86 1516.54 Q1940.94 1511.93 1946.75 1511.93 Z\" fill=\"#000000\" fill-rule=\"evenodd\" fill-opacity=\"1\" /><path clip-path=\"url(#clip730)\" d=\"M1967.72 1543.18 L1975.36 1543.18 L1975.36 1516.82 L1967.05 1518.49 L1967.05 1514.23 L1975.32 1512.56 L1979.99 1512.56 L1979.99 1543.18 L1987.63 1543.18 L1987.63 1547.12 L1967.72 1547.12 L1967.72 1543.18 Z\" fill=\"#000000\" fill-rule=\"evenodd\" fill-opacity=\"1\" /><polyline clip-path=\"url(#clip732)\" style=\"stroke:#000000; stroke-linecap:butt; stroke-linejoin:round; stroke-width:2; stroke-opacity:0.1; fill:none\" points=\"\n  112.177,1475.73 2352.76,1475.73 \n  \"/>\n<polyline clip-path=\"url(#clip732)\" style=\"stroke:#000000; stroke-linecap:butt; stroke-linejoin:round; stroke-width:2; stroke-opacity:0.1; fill:none\" points=\"\n  112.177,1180.03 2352.76,1180.03 \n  \"/>\n<polyline clip-path=\"url(#clip732)\" style=\"stroke:#000000; stroke-linecap:butt; stroke-linejoin:round; stroke-width:2; stroke-opacity:0.1; fill:none\" points=\"\n  112.177,884.329 2352.76,884.329 \n  \"/>\n<polyline clip-path=\"url(#clip732)\" style=\"stroke:#000000; stroke-linecap:butt; stroke-linejoin:round; stroke-width:2; stroke-opacity:0.1; fill:none\" points=\"\n  112.177,588.629 2352.76,588.629 \n  \"/>\n<polyline clip-path=\"url(#clip732)\" style=\"stroke:#000000; stroke-linecap:butt; stroke-linejoin:round; stroke-width:2; stroke-opacity:0.1; fill:none\" points=\"\n  112.177,292.93 2352.76,292.93 \n  \"/>\n<polyline clip-path=\"url(#clip730)\" style=\"stroke:#000000; stroke-linecap:butt; stroke-linejoin:round; stroke-width:4; stroke-opacity:1; fill:none\" points=\"\n  112.177,1486.45 112.177,47.2441 \n  \"/>\n<polyline clip-path=\"url(#clip730)\" style=\"stroke:#000000; stroke-linecap:butt; stroke-linejoin:round; stroke-width:4; stroke-opacity:1; fill:none\" points=\"\n  112.177,1475.73 139.064,1475.73 \n  \"/>\n<polyline clip-path=\"url(#clip730)\" style=\"stroke:#000000; stroke-linecap:butt; stroke-linejoin:round; stroke-width:4; stroke-opacity:1; fill:none\" points=\"\n  112.177,1180.03 139.064,1180.03 \n  \"/>\n<polyline clip-path=\"url(#clip730)\" style=\"stroke:#000000; stroke-linecap:butt; stroke-linejoin:round; stroke-width:4; stroke-opacity:1; fill:none\" points=\"\n  112.177,884.329 139.064,884.329 \n  \"/>\n<polyline clip-path=\"url(#clip730)\" style=\"stroke:#000000; stroke-linecap:butt; stroke-linejoin:round; stroke-width:4; stroke-opacity:1; fill:none\" points=\"\n  112.177,588.629 139.064,588.629 \n  \"/>\n<polyline clip-path=\"url(#clip730)\" style=\"stroke:#000000; stroke-linecap:butt; stroke-linejoin:round; stroke-width:4; stroke-opacity:1; fill:none\" points=\"\n  112.177,292.93 139.064,292.93 \n  \"/>\n<path clip-path=\"url(#clip730)\" d=\"M69.0476 1474.37 Q72.404 1475.09 74.279 1477.36 Q76.1772 1479.63 76.1772 1482.96 Q76.1772 1488.08 72.6587 1490.88 Q69.1402 1493.68 62.6587 1493.68 Q60.4828 1493.68 58.168 1493.24 Q55.8764 1492.82 53.4227 1491.97 L53.4227 1487.45 Q55.3671 1488.59 57.6819 1489.16 Q59.9967 1489.74 62.5198 1489.74 Q66.918 1489.74 69.2096 1488.01 Q71.5244 1486.27 71.5244 1482.96 Q71.5244 1479.91 69.3717 1478.19 Q67.242 1476.46 63.4226 1476.46 L59.3949 1476.46 L59.3949 1472.61 L63.6078 1472.61 Q67.0569 1472.61 68.8855 1471.25 Q70.7142 1469.86 70.7142 1467.27 Q70.7142 1464.6 68.8161 1463.19 Q66.9411 1461.76 63.4226 1461.76 Q61.5013 1461.76 59.3023 1462.17 Q57.1032 1462.59 54.4643 1463.47 L54.4643 1459.3 Q57.1264 1458.56 59.4412 1458.19 Q61.7791 1457.82 63.8393 1457.82 Q69.1633 1457.82 72.2652 1460.25 Q75.367 1462.66 75.367 1466.78 Q75.367 1469.65 73.7235 1471.64 Q72.08 1473.61 69.0476 1474.37 Z\" fill=\"#000000\" fill-rule=\"evenodd\" fill-opacity=\"1\" /><path clip-path=\"url(#clip730)\" d=\"M66.5939 1166.82 L54.7884 1185.27 L66.5939 1185.27 L66.5939 1166.82 M65.367 1162.75 L71.2466 1162.75 L71.2466 1185.27 L76.1772 1185.27 L76.1772 1189.16 L71.2466 1189.16 L71.2466 1197.31 L66.5939 1197.31 L66.5939 1189.16 L50.9921 1189.16 L50.9921 1184.65 L65.367 1162.75 Z\" fill=\"#000000\" fill-rule=\"evenodd\" fill-opacity=\"1\" /><path clip-path=\"url(#clip730)\" d=\"M55.2745 867.049 L73.6309 867.049 L73.6309 870.984 L59.5569 870.984 L59.5569 879.456 Q60.5754 879.109 61.5939 878.947 Q62.6124 878.762 63.6309 878.762 Q69.418 878.762 72.7976 881.933 Q76.1772 885.104 76.1772 890.521 Q76.1772 896.099 72.705 899.201 Q69.2328 902.28 62.9134 902.28 Q60.7374 902.28 58.4689 901.91 Q56.2236 901.539 53.8162 900.798 L53.8162 896.099 Q55.8995 897.234 58.1217 897.789 Q60.3439 898.345 62.8208 898.345 Q66.8254 898.345 69.1633 896.238 Q71.5013 894.132 71.5013 890.521 Q71.5013 886.91 69.1633 884.803 Q66.8254 882.697 62.8208 882.697 Q60.9458 882.697 59.0708 883.113 Q57.2189 883.53 55.2745 884.41 L55.2745 867.049 Z\" fill=\"#000000\" fill-rule=\"evenodd\" fill-opacity=\"1\" /><path clip-path=\"url(#clip730)\" d=\"M64.6495 586.766 Q61.5013 586.766 59.6495 588.919 Q57.8208 591.071 57.8208 594.821 Q57.8208 598.548 59.6495 600.724 Q61.5013 602.877 64.6495 602.877 Q67.7976 602.877 69.6263 600.724 Q71.4781 598.548 71.4781 594.821 Q71.4781 591.071 69.6263 588.919 Q67.7976 586.766 64.6495 586.766 M73.9318 572.113 L73.9318 576.372 Q72.1726 575.539 70.367 575.099 Q68.5846 574.66 66.8254 574.66 Q62.1958 574.66 59.7421 577.785 Q57.3115 580.91 56.9643 587.229 Q58.33 585.215 60.3902 584.15 Q62.4504 583.062 64.9272 583.062 Q70.1355 583.062 73.1448 586.234 Q76.1772 589.382 76.1772 594.821 Q76.1772 600.146 73.029 603.363 Q69.8809 606.581 64.6495 606.581 Q58.6541 606.581 55.4828 601.997 Q52.3116 597.391 52.3116 588.664 Q52.3116 580.47 56.2004 575.609 Q60.0893 570.724 66.6402 570.724 Q68.3994 570.724 70.1818 571.072 Q71.9874 571.419 73.9318 572.113 Z\" fill=\"#000000\" fill-rule=\"evenodd\" fill-opacity=\"1\" /><path clip-path=\"url(#clip730)\" d=\"M53.9551 275.65 L76.1772 275.65 L76.1772 277.641 L63.6309 310.21 L58.7467 310.21 L70.5522 279.585 L53.9551 279.585 L53.9551 275.65 Z\" fill=\"#000000\" fill-rule=\"evenodd\" fill-opacity=\"1\" /><polyline clip-path=\"url(#clip732)\" style=\"stroke:#009af9; stroke-linecap:butt; stroke-linejoin:round; stroke-width:4; stroke-opacity:1; fill:none\" points=\"\n  175.59,433.371 185.032,433.276 194.473,446.856 203.002,448.999 212.443,449.341 221.581,451.203 231.023,449.397 240.16,443.56 249.602,442.365 259.043,444.368 \n  268.181,441.422 277.623,438.588 286.76,438.814 296.202,435.337 305.643,434.769 314.172,427.411 323.613,424.105 332.751,423.52 342.193,419.631 351.33,418.084 \n  360.772,417.834 370.213,416.94 379.351,412.238 388.793,407.152 397.93,405.875 407.372,401.833 416.814,405.469 425.646,405.05 435.088,403.201 444.225,404.078 \n  453.667,400.684 462.804,397.542 472.246,399.762 481.688,401.955 490.825,399.572 500.267,394.883 509.404,389.667 518.846,378.051 528.288,370.981 536.816,359.245 \n  546.258,355.115 555.395,355.27 564.837,348.97 573.974,341.926 583.416,341.635 592.858,341.268 601.995,336.362 611.437,329.036 620.574,325.48 630.016,322.991 \n  639.458,327.706 647.986,322.593 657.428,318.297 666.565,316.937 676.007,312.448 685.144,306.075 694.586,304.118 704.028,304.839 713.165,297.519 722.607,287.339 \n  731.745,282.584 741.186,276.285 750.628,276.499 759.156,272.467 768.598,268.463 777.735,269.122 787.177,262.495 796.315,253.759 805.756,250.618 815.198,249.149 \n  824.335,243.231 833.777,236.482 842.915,234.005 852.356,226.955 861.798,231.005 870.631,222.721 880.073,224.731 889.21,228.159 898.652,222.558 907.789,221.61 \n  917.231,225.468 926.673,229.751 935.81,225.334 945.252,220.721 954.389,213.752 963.831,200.612 973.273,199.156 981.801,193.328 991.243,187.798 1000.38,186.193 \n  1009.82,179.811 1018.96,174.075 1028.4,169.427 1037.84,167.3 1046.98,160.654 1056.42,151.912 1065.56,147.043 1075,141.37 1084.44,140.843 1092.97,134.745 \n  1102.41,130.5 1111.55,131.178 1120.99,123.716 1130.13,113.006 1139.57,113.853 1149.01,115.768 1158.15,109.591 1167.59,97.4505 1176.73,87.9763 1186.17,385.791 \n  1195.61,441.535 1204.14,561.839 1213.58,657.932 1222.72,720.777 1232.16,796.685 1241.3,892.234 1250.74,961.898 1260.18,1039.63 1269.32,1181.93 1278.76,1350.29 \n  1287.9,1437.21 1297.34,1436.73 1306.78,1441.83 1315.62,1445.54 1325.06,1445.72 1334.19,1445.05 1343.64,1436.3 1352.77,1427.62 1362.22,1425.65 1371.66,1427.76 \n  1380.79,1421.71 1390.24,1412.99 1399.37,1409.65 1408.82,1407.95 1418.26,1409.35 1426.79,1411.31 1436.23,1410.31 1445.36,1405.26 1454.81,1391.3 1463.94,1380.98 \n  1473.39,1383.61 1482.83,1387.03 1491.96,1375.77 1501.41,1362.53 1510.54,1356.49 1519.99,1352.88 1529.43,1348.5 1537.96,1345.93 1547.4,1342.09 1556.53,1335.57 \n  1565.98,1318.19 1575.11,1303.89 1584.56,1302.59 1594,1306.22 1603.13,1294.89 1612.58,1279.52 1621.71,1271.52 1631.16,1270.09 1640.6,1273.37 1649.13,1273.11 \n  1658.57,1270.62 1667.7,1266.13 1677.15,1249.04 1686.28,1233.53 1695.73,1231.23 1705.17,1231.08 1714.3,1215.47 1723.75,1198.85 1732.88,1193.74 1742.33,1190.33 \n  1751.77,1186.87 1760.6,1191.28 1770.04,1190.55 1779.18,1178.54 1788.62,1154.81 1797.76,1136.84 1807.2,1140.62 1816.64,1148.09 1825.78,1126.82 1835.22,1103.81 \n  1844.36,1095.47 1853.8,1092.5 1863.24,1089.37 1871.77,1088.65 1881.21,1085.43 1890.35,1074.99 1899.79,1048.96 1908.93,1031.25 1918.37,1032.72 1927.81,1036.93 \n  1936.95,1015.41 1946.39,992.1 1955.53,981.015 1964.97,977.895 1974.41,980.606 1982.94,983.181 1992.38,981.378 2001.52,968.97 2010.96,937.606 2020.1,912.819 \n  2029.54,911.268 2038.98,910.526 2048.12,880.202 2057.56,853.581 2066.7,845.755 2076.14,841.073 2085.58,834.618 2094.11,835.498 2103.55,829.188 2112.69,811.439 \n  2122.13,773.354 2131.27,748.951 2140.71,758.623 2150.15,770.782 2159.29,738.419 2168.73,712.492 2177.87,701 2187.31,691.472 2196.75,683.589 2205.59,683.369 \n  2215.03,683.527 2224.16,663.088 2233.61,615.51 2242.74,589.437 2252.19,598.575 2261.63,597.755 2270.76,550.452 2280.21,509.112 2289.34,495.947 \n  \"/>\n<path clip-path=\"url(#clip730)\" d=\"\nM1356.2 216.178 L2278.07 216.178 L2278.07 95.2176 L1356.2 95.2176  Z\n  \" fill=\"#ffffff\" fill-rule=\"evenodd\" fill-opacity=\"1\"/>\n<polyline clip-path=\"url(#clip730)\" style=\"stroke:#000000; stroke-linecap:butt; stroke-linejoin:round; stroke-width:4; stroke-opacity:1; fill:none\" points=\"\n  1356.2,216.178 2278.07,216.178 2278.07,95.2176 1356.2,95.2176 1356.2,216.178 \n  \"/>\n<polyline clip-path=\"url(#clip730)\" style=\"stroke:#009af9; stroke-linecap:butt; stroke-linejoin:round; stroke-width:4; stroke-opacity:1; fill:none\" points=\"\n  1381.1,155.698 1530.47,155.698 \n  \"/>\n<path clip-path=\"url(#clip730)\" d=\"M1568.56 172.978 L1555.37 138.418 L1560.25 138.418 L1571.2 167.515 L1582.17 138.418 L1587.03 138.418 L1573.86 172.978 L1568.56 172.978 Z\" fill=\"#000000\" fill-rule=\"evenodd\" fill-opacity=\"1\" /><path clip-path=\"url(#clip730)\" d=\"M1600 159.945 Q1594.83 159.945 1592.84 161.126 Q1590.85 162.306 1590.85 165.154 Q1590.85 167.422 1592.33 168.765 Q1593.84 170.084 1596.41 170.084 Q1599.95 170.084 1602.08 167.584 Q1604.23 165.061 1604.23 160.894 L1604.23 159.945 L1600 159.945 M1608.49 158.186 L1608.49 172.978 L1604.23 172.978 L1604.23 169.042 Q1602.77 171.403 1600.6 172.538 Q1598.42 173.649 1595.27 173.649 Q1591.29 173.649 1588.93 171.427 Q1586.59 169.181 1586.59 165.431 Q1586.59 161.056 1589.51 158.834 Q1592.45 156.612 1598.26 156.612 L1604.23 156.612 L1604.23 156.195 Q1604.23 153.255 1602.29 151.658 Q1600.37 150.038 1596.87 150.038 Q1594.65 150.038 1592.54 150.57 Q1590.44 151.103 1588.49 152.167 L1588.49 148.232 Q1590.83 147.33 1593.03 146.89 Q1595.23 146.427 1597.31 146.427 Q1602.94 146.427 1605.71 149.343 Q1608.49 152.26 1608.49 158.186 Z\" fill=\"#000000\" fill-rule=\"evenodd\" fill-opacity=\"1\" /><path clip-path=\"url(#clip730)\" d=\"M1632.29 151.033 Q1631.57 150.617 1630.71 150.431 Q1629.88 150.223 1628.86 150.223 Q1625.25 150.223 1623.31 152.584 Q1621.38 154.922 1621.38 159.32 L1621.38 172.978 L1617.1 172.978 L1617.1 147.052 L1621.38 147.052 L1621.38 151.08 Q1622.73 148.718 1624.88 147.584 Q1627.03 146.427 1630.11 146.427 Q1630.55 146.427 1631.08 146.496 Q1631.62 146.543 1632.26 146.658 L1632.29 151.033 Z\" fill=\"#000000\" fill-rule=\"evenodd\" fill-opacity=\"1\" /><path clip-path=\"url(#clip730)\" d=\"M1633 167.098 L1637.89 167.098 L1637.89 172.978 L1633 172.978 L1633 167.098 Z\" fill=\"#000000\" fill-rule=\"evenodd\" fill-opacity=\"1\" /><path clip-path=\"url(#clip730)\" d=\"M1662.54 147.052 L1666.8 147.052 L1666.8 172.978 L1662.54 172.978 L1662.54 147.052 M1662.54 136.959 L1666.8 136.959 L1666.8 142.353 L1662.54 142.353 L1662.54 136.959 Z\" fill=\"#000000\" fill-rule=\"evenodd\" fill-opacity=\"1\" /><path clip-path=\"url(#clip730)\" d=\"M1697.26 157.329 L1697.26 172.978 L1693 172.978 L1693 157.468 Q1693 153.788 1691.57 151.959 Q1690.13 150.13 1687.26 150.13 Q1683.81 150.13 1681.82 152.33 Q1679.83 154.529 1679.83 158.325 L1679.83 172.978 L1675.55 172.978 L1675.55 147.052 L1679.83 147.052 L1679.83 151.08 Q1681.36 148.742 1683.42 147.584 Q1685.5 146.427 1688.21 146.427 Q1692.68 146.427 1694.97 149.205 Q1697.26 151.959 1697.26 157.329 Z\" fill=\"#000000\" fill-rule=\"evenodd\" fill-opacity=\"1\" /><path clip-path=\"url(#clip730)\" d=\"M1709.97 139.691 L1709.97 147.052 L1718.75 147.052 L1718.75 150.362 L1709.97 150.362 L1709.97 164.436 Q1709.97 167.607 1710.83 168.51 Q1711.71 169.413 1714.37 169.413 L1718.75 169.413 L1718.75 172.978 L1714.37 172.978 Q1709.44 172.978 1707.56 171.149 Q1705.69 169.297 1705.69 164.436 L1705.69 150.362 L1702.56 150.362 L1702.56 147.052 L1705.69 147.052 L1705.69 139.691 L1709.97 139.691 Z\" fill=\"#000000\" fill-rule=\"evenodd\" fill-opacity=\"1\" /><path clip-path=\"url(#clip730)\" d=\"M1746.52 158.95 L1746.52 161.033 L1726.94 161.033 Q1727.22 165.431 1729.58 167.746 Q1731.96 170.038 1736.2 170.038 Q1738.65 170.038 1740.94 169.436 Q1743.26 168.834 1745.53 167.63 L1745.53 171.658 Q1743.24 172.63 1740.83 173.14 Q1738.42 173.649 1735.94 173.649 Q1729.74 173.649 1726.11 170.038 Q1722.49 166.427 1722.49 160.269 Q1722.49 153.904 1725.92 150.177 Q1729.37 146.427 1735.2 146.427 Q1740.43 146.427 1743.47 149.806 Q1746.52 153.163 1746.52 158.95 M1742.26 157.7 Q1742.22 154.205 1740.3 152.121 Q1738.4 150.038 1735.25 150.038 Q1731.68 150.038 1729.53 152.052 Q1727.4 154.066 1727.08 157.723 L1742.26 157.7 Z\" fill=\"#000000\" fill-rule=\"evenodd\" fill-opacity=\"1\" /><path clip-path=\"url(#clip730)\" d=\"M1768.54 151.033 Q1767.82 150.617 1766.96 150.431 Q1766.13 150.223 1765.11 150.223 Q1761.5 150.223 1759.55 152.584 Q1757.63 154.922 1757.63 159.32 L1757.63 172.978 L1753.35 172.978 L1753.35 147.052 L1757.63 147.052 L1757.63 151.08 Q1758.98 148.718 1761.13 147.584 Q1763.28 146.427 1766.36 146.427 Q1766.8 146.427 1767.33 146.496 Q1767.87 146.543 1768.51 146.658 L1768.54 151.033 Z\" fill=\"#000000\" fill-rule=\"evenodd\" fill-opacity=\"1\" /><path clip-path=\"url(#clip730)\" d=\"M1784.79 159.945 Q1779.62 159.945 1777.63 161.126 Q1775.64 162.306 1775.64 165.154 Q1775.64 167.422 1777.12 168.765 Q1778.63 170.084 1781.2 170.084 Q1784.74 170.084 1786.87 167.584 Q1789.02 165.061 1789.02 160.894 L1789.02 159.945 L1784.79 159.945 M1793.28 158.186 L1793.28 172.978 L1789.02 172.978 L1789.02 169.042 Q1787.56 171.403 1785.39 172.538 Q1783.21 173.649 1780.06 173.649 Q1776.08 173.649 1773.72 171.427 Q1771.38 169.181 1771.38 165.431 Q1771.38 161.056 1774.3 158.834 Q1777.24 156.612 1783.05 156.612 L1789.02 156.612 L1789.02 156.195 Q1789.02 153.255 1787.08 151.658 Q1785.16 150.038 1781.66 150.038 Q1779.44 150.038 1777.33 150.57 Q1775.23 151.103 1773.28 152.167 L1773.28 148.232 Q1775.62 147.33 1777.82 146.89 Q1780.02 146.427 1782.1 146.427 Q1787.73 146.427 1790.5 149.343 Q1793.28 152.26 1793.28 158.186 Z\" fill=\"#000000\" fill-rule=\"evenodd\" fill-opacity=\"1\" /><path clip-path=\"url(#clip730)\" d=\"M1823.61 157.329 L1823.61 172.978 L1819.35 172.978 L1819.35 157.468 Q1819.35 153.788 1817.91 151.959 Q1816.48 150.13 1813.61 150.13 Q1810.16 150.13 1808.17 152.33 Q1806.18 154.529 1806.18 158.325 L1806.18 172.978 L1801.89 172.978 L1801.89 147.052 L1806.18 147.052 L1806.18 151.08 Q1807.7 148.742 1809.76 147.584 Q1811.85 146.427 1814.55 146.427 Q1819.02 146.427 1821.31 149.205 Q1823.61 151.959 1823.61 157.329 Z\" fill=\"#000000\" fill-rule=\"evenodd\" fill-opacity=\"1\" /><path clip-path=\"url(#clip730)\" d=\"M1831.66 162.746 L1831.66 147.052 L1835.92 147.052 L1835.92 162.584 Q1835.92 166.265 1837.36 168.116 Q1838.79 169.945 1841.66 169.945 Q1845.11 169.945 1847.1 167.746 Q1849.11 165.547 1849.11 161.751 L1849.11 147.052 L1853.37 147.052 L1853.37 172.978 L1849.11 172.978 L1849.11 168.996 Q1847.56 171.357 1845.5 172.515 Q1843.47 173.649 1840.76 173.649 Q1836.29 173.649 1833.98 170.871 Q1831.66 168.093 1831.66 162.746 M1842.38 146.427 L1842.38 146.427 Z\" fill=\"#000000\" fill-rule=\"evenodd\" fill-opacity=\"1\" /><path clip-path=\"url(#clip730)\" d=\"M1873.93 159.945 Q1868.77 159.945 1866.78 161.126 Q1864.79 162.306 1864.79 165.154 Q1864.79 167.422 1866.27 168.765 Q1867.77 170.084 1870.34 170.084 Q1873.88 170.084 1876.01 167.584 Q1878.17 165.061 1878.17 160.894 L1878.17 159.945 L1873.93 159.945 M1882.42 158.186 L1882.42 172.978 L1878.17 172.978 L1878.17 169.042 Q1876.71 171.403 1874.53 172.538 Q1872.36 173.649 1869.21 173.649 Q1865.23 173.649 1862.86 171.427 Q1860.53 169.181 1860.53 165.431 Q1860.53 161.056 1863.44 158.834 Q1866.38 156.612 1872.19 156.612 L1878.17 156.612 L1878.17 156.195 Q1878.17 153.255 1876.22 151.658 Q1874.3 150.038 1870.8 150.038 Q1868.58 150.038 1866.48 150.57 Q1864.37 151.103 1862.42 152.167 L1862.42 148.232 Q1864.76 147.33 1866.96 146.89 Q1869.16 146.427 1871.24 146.427 Q1876.87 146.427 1879.65 149.343 Q1882.42 152.26 1882.42 158.186 Z\" fill=\"#000000\" fill-rule=\"evenodd\" fill-opacity=\"1\" /><path clip-path=\"url(#clip730)\" d=\"M1891.2 136.959 L1895.46 136.959 L1895.46 172.978 L1891.2 172.978 L1891.2 136.959 Z\" fill=\"#000000\" fill-rule=\"evenodd\" fill-opacity=\"1\" /><path clip-path=\"url(#clip730)\" d=\"M1919.62 138.418 L1924.3 138.418 L1924.3 172.978 L1919.62 172.978 L1919.62 138.418 Z\" fill=\"#000000\" fill-rule=\"evenodd\" fill-opacity=\"1\" /><path clip-path=\"url(#clip730)\" d=\"M1938.28 142.26 L1938.28 155.246 L1944.16 155.246 Q1947.42 155.246 1949.21 153.556 Q1950.99 151.867 1950.99 148.742 Q1950.99 145.64 1949.21 143.95 Q1947.42 142.26 1944.16 142.26 L1938.28 142.26 M1933.6 138.418 L1944.16 138.418 Q1949.97 138.418 1952.93 141.056 Q1955.92 143.672 1955.92 148.742 Q1955.92 153.857 1952.93 156.473 Q1949.97 159.089 1944.16 159.089 L1938.28 159.089 L1938.28 172.978 L1933.6 172.978 L1933.6 138.418 Z\" fill=\"#000000\" fill-rule=\"evenodd\" fill-opacity=\"1\" /><path clip-path=\"url(#clip730)\" d=\"M1988.07 141.08 L1988.07 146.01 Q1985.71 143.811 1983.03 142.723 Q1980.36 141.635 1977.35 141.635 Q1971.43 141.635 1968.28 145.269 Q1965.13 148.88 1965.13 155.732 Q1965.13 162.561 1968.28 166.195 Q1971.43 169.806 1977.35 169.806 Q1980.36 169.806 1983.03 168.718 Q1985.71 167.63 1988.07 165.431 L1988.07 170.316 Q1985.62 171.982 1982.86 172.816 Q1980.13 173.649 1977.08 173.649 Q1969.23 173.649 1964.72 168.857 Q1960.2 164.042 1960.2 155.732 Q1960.2 147.399 1964.72 142.607 Q1969.23 137.793 1977.08 137.793 Q1980.18 137.793 1982.91 138.626 Q1985.66 139.436 1988.07 141.08 Z\" fill=\"#000000\" fill-rule=\"evenodd\" fill-opacity=\"1\" /><path clip-path=\"url(#clip730)\" d=\"M2014.3 169.089 L2014.3 182.839 L2010.02 182.839 L2010.02 147.052 L2014.3 147.052 L2014.3 150.987 Q2015.64 148.672 2017.68 147.561 Q2019.74 146.427 2022.59 146.427 Q2027.31 146.427 2030.25 150.177 Q2033.21 153.927 2033.21 160.038 Q2033.21 166.149 2030.25 169.899 Q2027.31 173.649 2022.59 173.649 Q2019.74 173.649 2017.68 172.538 Q2015.64 171.403 2014.3 169.089 M2028.79 160.038 Q2028.79 155.339 2026.85 152.677 Q2024.92 149.992 2021.54 149.992 Q2018.16 149.992 2016.22 152.677 Q2014.3 155.339 2014.3 160.038 Q2014.3 164.737 2016.22 167.422 Q2018.16 170.084 2021.54 170.084 Q2024.92 170.084 2026.85 167.422 Q2028.79 164.737 2028.79 160.038 Z\" fill=\"#000000\" fill-rule=\"evenodd\" fill-opacity=\"1\" /><path clip-path=\"url(#clip730)\" d=\"M2055.29 151.033 Q2054.58 150.617 2053.72 150.431 Q2052.89 150.223 2051.87 150.223 Q2048.26 150.223 2046.31 152.584 Q2044.39 154.922 2044.39 159.32 L2044.39 172.978 L2040.11 172.978 L2040.11 147.052 L2044.39 147.052 L2044.39 151.08 Q2045.73 148.718 2047.89 147.584 Q2050.04 146.427 2053.12 146.427 Q2053.56 146.427 2054.09 146.496 Q2054.62 146.543 2055.27 146.658 L2055.29 151.033 Z\" fill=\"#000000\" fill-rule=\"evenodd\" fill-opacity=\"1\" /><path clip-path=\"url(#clip730)\" d=\"M2068.77 150.038 Q2065.34 150.038 2063.35 152.723 Q2061.36 155.385 2061.36 160.038 Q2061.36 164.691 2063.33 167.376 Q2065.32 170.038 2068.77 170.038 Q2072.17 170.038 2074.16 167.353 Q2076.15 164.667 2076.15 160.038 Q2076.15 155.431 2074.16 152.746 Q2072.17 150.038 2068.77 150.038 M2068.77 146.427 Q2074.32 146.427 2077.49 150.038 Q2080.66 153.649 2080.66 160.038 Q2080.66 166.404 2077.49 170.038 Q2074.32 173.649 2068.77 173.649 Q2063.19 173.649 2060.02 170.038 Q2056.87 166.404 2056.87 160.038 Q2056.87 153.649 2060.02 150.038 Q2063.19 146.427 2068.77 146.427 Z\" fill=\"#000000\" fill-rule=\"evenodd\" fill-opacity=\"1\" /><path clip-path=\"url(#clip730)\" d=\"M2107.91 152.029 Q2109.51 149.158 2111.73 147.793 Q2113.95 146.427 2116.96 146.427 Q2121.01 146.427 2123.21 149.274 Q2125.41 152.098 2125.41 157.329 L2125.41 172.978 L2121.13 172.978 L2121.13 157.468 Q2121.13 153.742 2119.81 151.936 Q2118.49 150.13 2115.78 150.13 Q2112.47 150.13 2110.55 152.33 Q2108.63 154.529 2108.63 158.325 L2108.63 172.978 L2104.34 172.978 L2104.34 157.468 Q2104.34 153.718 2103.03 151.936 Q2101.71 150.13 2098.95 150.13 Q2095.69 150.13 2093.77 152.353 Q2091.84 154.552 2091.84 158.325 L2091.84 172.978 L2087.56 172.978 L2087.56 147.052 L2091.84 147.052 L2091.84 151.08 Q2093.3 148.695 2095.34 147.561 Q2097.38 146.427 2100.18 146.427 Q2103 146.427 2104.97 147.862 Q2106.96 149.297 2107.91 152.029 Z\" fill=\"#000000\" fill-rule=\"evenodd\" fill-opacity=\"1\" /><path clip-path=\"url(#clip730)\" d=\"M2156.08 158.95 L2156.08 161.033 L2136.5 161.033 Q2136.78 165.431 2139.14 167.746 Q2141.52 170.038 2145.76 170.038 Q2148.21 170.038 2150.5 169.436 Q2152.82 168.834 2155.09 167.63 L2155.09 171.658 Q2152.79 172.63 2150.39 173.14 Q2147.98 173.649 2145.5 173.649 Q2139.3 173.649 2135.66 170.038 Q2132.05 166.427 2132.05 160.269 Q2132.05 153.904 2135.48 150.177 Q2138.93 146.427 2144.76 146.427 Q2149.99 146.427 2153.03 149.806 Q2156.08 153.163 2156.08 158.95 M2151.82 157.7 Q2151.78 154.205 2149.85 152.121 Q2147.96 150.038 2144.81 150.038 Q2141.24 150.038 2139.09 152.052 Q2136.96 154.066 2136.64 157.723 L2151.82 157.7 Z\" fill=\"#000000\" fill-rule=\"evenodd\" fill-opacity=\"1\" /><path clip-path=\"url(#clip730)\" d=\"M2180.13 150.987 L2180.13 136.959 L2184.39 136.959 L2184.39 172.978 L2180.13 172.978 L2180.13 169.089 Q2178.79 171.403 2176.73 172.538 Q2174.69 173.649 2171.82 173.649 Q2167.12 173.649 2164.16 169.899 Q2161.22 166.149 2161.22 160.038 Q2161.22 153.927 2164.16 150.177 Q2167.12 146.427 2171.82 146.427 Q2174.69 146.427 2176.73 147.561 Q2178.79 148.672 2180.13 150.987 M2165.62 160.038 Q2165.62 164.737 2167.54 167.422 Q2169.48 170.084 2172.86 170.084 Q2176.24 170.084 2178.19 167.422 Q2180.13 164.737 2180.13 160.038 Q2180.13 155.339 2178.19 152.677 Q2176.24 149.992 2172.86 149.992 Q2169.48 149.992 2167.54 152.677 Q2165.62 155.339 2165.62 160.038 Z\" fill=\"#000000\" fill-rule=\"evenodd\" fill-opacity=\"1\" /><path clip-path=\"url(#clip730)\" d=\"M2193.16 147.052 L2197.42 147.052 L2197.42 172.978 L2193.16 172.978 L2193.16 147.052 M2193.16 136.959 L2197.42 136.959 L2197.42 142.353 L2193.16 142.353 L2193.16 136.959 Z\" fill=\"#000000\" fill-rule=\"evenodd\" fill-opacity=\"1\" /><path clip-path=\"url(#clip730)\" d=\"M2216.38 150.038 Q2212.96 150.038 2210.96 152.723 Q2208.97 155.385 2208.97 160.038 Q2208.97 164.691 2210.94 167.376 Q2212.93 170.038 2216.38 170.038 Q2219.78 170.038 2221.77 167.353 Q2223.77 164.667 2223.77 160.038 Q2223.77 155.431 2221.77 152.746 Q2219.78 150.038 2216.38 150.038 M2216.38 146.427 Q2221.94 146.427 2225.11 150.038 Q2228.28 153.649 2228.28 160.038 Q2228.28 166.404 2225.11 170.038 Q2221.94 173.649 2216.38 173.649 Q2210.8 173.649 2207.63 170.038 Q2204.48 166.404 2204.48 160.038 Q2204.48 153.649 2207.63 150.038 Q2210.8 146.427 2216.38 146.427 Z\" fill=\"#000000\" fill-rule=\"evenodd\" fill-opacity=\"1\" /></svg>\n"
     },
     "metadata": {},
     "execution_count": 52
    }
   ],
   "source": [
    "# Promedio a través de las realizaciones\n",
    "m_tray_infl = vec(mean(tray_infl, dims=3))\n",
    "\n",
    "plot(infl_dates(gtdata_eval), m_tray_infl, \n",
    "    label=\"Var. interanual IPC promedio\") "
   ]
  },
  {
   "cell_type": "markdown",
   "metadata": {},
   "source": [
    "## Generación de trayectorias en paralelo\n",
    "\n",
    "Para generar trayectorias en paralelo utilizamos la librería `Distributed` en cada proceso y la función `pargentrayinfl`."
   ]
  },
  {
   "cell_type": "code",
   "execution_count": 53,
   "metadata": {},
   "outputs": [],
   "source": [
    "using Distributed"
   ]
  },
  {
   "cell_type": "code",
   "execution_count": 54,
   "metadata": {},
   "outputs": [
    {
     "output_type": "execute_result",
     "data": {
      "text/plain": [
       "2-element Vector{Int64}:\n",
       " 2\n",
       " 3"
      ]
     },
     "metadata": {},
     "execution_count": 54
    }
   ],
   "source": [
    "addprocs(2, exeflags=\"--project\")"
   ]
  },
  {
   "cell_type": "code",
   "execution_count": 55,
   "metadata": {},
   "outputs": [],
   "source": [
    "@everywhere using HEMI "
   ]
  },
  {
   "cell_type": "code",
   "execution_count": 56,
   "metadata": {},
   "outputs": [
    {
     "output_type": "execute_result",
     "data": {
      "text/plain": [
       "(::InflationPercentileEq) (generic function with 5 methods)"
      ]
     },
     "metadata": {},
     "execution_count": 56
    }
   ],
   "source": [
    "perkfn = InflationPercentileEq(69)"
   ]
  },
  {
   "cell_type": "code",
   "execution_count": 57,
   "metadata": {},
   "outputs": [
    {
     "output_type": "stream",
     "name": "stderr",
     "text": [
      "\u001b[32mProgress: 100%|█████████████████████████████████████████| Time: 0:00:16\u001b[39m\n"
     ]
    },
    {
     "output_type": "execute_result",
     "data": {
      "text/plain": [
       "(229, 1, 10000)"
      ]
     },
     "metadata": {},
     "execution_count": 57
    }
   ],
   "source": [
    "tray_infl = pargentrayinfl(perkfn, resamplefn, trendfn, gtdata_eval; K = 10_000); \n",
    "size(tray_infl)"
   ]
  },
  {
   "cell_type": "code",
   "execution_count": 60,
   "metadata": {},
   "outputs": [
    {
     "output_type": "execute_result",
     "data": {
      "image/svg+xml": "<?xml version=\"1.0\" encoding=\"utf-8\"?>\n<svg xmlns=\"http://www.w3.org/2000/svg\" xmlns:xlink=\"http://www.w3.org/1999/xlink\" width=\"600\" height=\"400\" viewBox=\"0 0 2400 1600\">\n<defs>\n  <clipPath id=\"clip810\">\n    <rect x=\"0\" y=\"0\" width=\"2400\" height=\"1600\"/>\n  </clipPath>\n</defs>\n<path clip-path=\"url(#clip810)\" d=\"\nM0 1600 L2400 1600 L2400 0 L0 0  Z\n  \" fill=\"#ffffff\" fill-rule=\"evenodd\" fill-opacity=\"1\"/>\n<defs>\n  <clipPath id=\"clip811\">\n    <rect x=\"480\" y=\"0\" width=\"1681\" height=\"1600\"/>\n  </clipPath>\n</defs>\n<path clip-path=\"url(#clip810)\" d=\"\nM112.177 1486.45 L2352.76 1486.45 L2352.76 47.2441 L112.177 47.2441  Z\n  \" fill=\"#ffffff\" fill-rule=\"evenodd\" fill-opacity=\"1\"/>\n<defs>\n  <clipPath id=\"clip812\">\n    <rect x=\"112\" y=\"47\" width=\"2242\" height=\"1440\"/>\n  </clipPath>\n</defs>\n<polyline clip-path=\"url(#clip812)\" style=\"stroke:#000000; stroke-linecap:butt; stroke-linejoin:round; stroke-width:2; stroke-opacity:0.1; fill:none\" points=\"\n  185.032,1486.45 185.032,47.2441 \n  \"/>\n<polyline clip-path=\"url(#clip812)\" style=\"stroke:#000000; stroke-linecap:butt; stroke-linejoin:round; stroke-width:2; stroke-opacity:0.1; fill:none\" points=\"\n  741.186,1486.45 741.186,47.2441 \n  \"/>\n<polyline clip-path=\"url(#clip812)\" style=\"stroke:#000000; stroke-linecap:butt; stroke-linejoin:round; stroke-width:2; stroke-opacity:0.1; fill:none\" points=\"\n  1297.34,1486.45 1297.34,47.2441 \n  \"/>\n<polyline clip-path=\"url(#clip812)\" style=\"stroke:#000000; stroke-linecap:butt; stroke-linejoin:round; stroke-width:2; stroke-opacity:0.1; fill:none\" points=\"\n  1853.8,1486.45 1853.8,47.2441 \n  \"/>\n<polyline clip-path=\"url(#clip810)\" style=\"stroke:#000000; stroke-linecap:butt; stroke-linejoin:round; stroke-width:4; stroke-opacity:1; fill:none\" points=\"\n  112.177,1486.45 2352.76,1486.45 \n  \"/>\n<polyline clip-path=\"url(#clip810)\" style=\"stroke:#000000; stroke-linecap:butt; stroke-linejoin:round; stroke-width:4; stroke-opacity:1; fill:none\" points=\"\n  185.032,1486.45 185.032,1469.18 \n  \"/>\n<polyline clip-path=\"url(#clip810)\" style=\"stroke:#000000; stroke-linecap:butt; stroke-linejoin:round; stroke-width:4; stroke-opacity:1; fill:none\" points=\"\n  741.186,1486.45 741.186,1469.18 \n  \"/>\n<polyline clip-path=\"url(#clip810)\" style=\"stroke:#000000; stroke-linecap:butt; stroke-linejoin:round; stroke-width:4; stroke-opacity:1; fill:none\" points=\"\n  1297.34,1486.45 1297.34,1469.18 \n  \"/>\n<polyline clip-path=\"url(#clip810)\" style=\"stroke:#000000; stroke-linecap:butt; stroke-linejoin:round; stroke-width:4; stroke-opacity:1; fill:none\" points=\"\n  1853.8,1486.45 1853.8,1469.18 \n  \"/>\n<path clip-path=\"url(#clip810)\" d=\"M56.8263 1543.18 L73.1456 1543.18 L73.1456 1547.12 L51.2013 1547.12 L51.2013 1543.18 Q53.8633 1540.43 58.4467 1535.8 Q63.0531 1531.15 64.2337 1529.81 Q66.479 1527.28 67.3586 1525.55 Q68.2614 1523.79 68.2614 1522.1 Q68.2614 1519.34 66.317 1517.61 Q64.3957 1515.87 61.2939 1515.87 Q59.0948 1515.87 56.6411 1516.63 Q54.2106 1517.4 51.4328 1518.95 L51.4328 1514.23 Q54.2569 1513.09 56.7105 1512.51 Q59.1642 1511.93 61.2013 1511.93 Q66.5716 1511.93 69.766 1514.62 Q72.9605 1517.31 72.9605 1521.8 Q72.9605 1523.93 72.1503 1525.85 Q71.3632 1527.74 69.2568 1530.34 Q68.6781 1531.01 65.5762 1534.23 Q62.4744 1537.42 56.8263 1543.18 Z\" fill=\"#000000\" fill-rule=\"evenodd\" fill-opacity=\"1\" /><path clip-path=\"url(#clip810)\" d=\"M92.9604 1515.64 Q89.3493 1515.64 87.5206 1519.2 Q85.715 1522.75 85.715 1529.87 Q85.715 1536.98 87.5206 1540.55 Q89.3493 1544.09 92.9604 1544.09 Q96.5946 1544.09 98.4001 1540.55 Q100.229 1536.98 100.229 1529.87 Q100.229 1522.75 98.4001 1519.2 Q96.5946 1515.64 92.9604 1515.64 M92.9604 1511.93 Q98.7705 1511.93 101.826 1516.54 Q104.905 1521.12 104.905 1529.87 Q104.905 1538.6 101.826 1543.21 Q98.7705 1547.79 92.9604 1547.79 Q87.1502 1547.79 84.0715 1543.21 Q81.016 1538.6 81.016 1529.87 Q81.016 1521.12 84.0715 1516.54 Q87.1502 1511.93 92.9604 1511.93 Z\" fill=\"#000000\" fill-rule=\"evenodd\" fill-opacity=\"1\" /><path clip-path=\"url(#clip810)\" d=\"M123.122 1515.64 Q119.511 1515.64 117.682 1519.2 Q115.877 1522.75 115.877 1529.87 Q115.877 1536.98 117.682 1540.55 Q119.511 1544.09 123.122 1544.09 Q126.756 1544.09 128.562 1540.55 Q130.391 1536.98 130.391 1529.87 Q130.391 1522.75 128.562 1519.2 Q126.756 1515.64 123.122 1515.64 M123.122 1511.93 Q128.932 1511.93 131.988 1516.54 Q135.067 1521.12 135.067 1529.87 Q135.067 1538.6 131.988 1543.21 Q128.932 1547.79 123.122 1547.79 Q117.312 1547.79 114.233 1543.21 Q111.178 1538.6 111.178 1529.87 Q111.178 1521.12 114.233 1516.54 Q117.312 1511.93 123.122 1511.93 Z\" fill=\"#000000\" fill-rule=\"evenodd\" fill-opacity=\"1\" /><path clip-path=\"url(#clip810)\" d=\"M147.312 1543.18 L163.631 1543.18 L163.631 1547.12 L141.687 1547.12 L141.687 1543.18 Q144.349 1540.43 148.932 1535.8 Q153.539 1531.15 154.719 1529.81 Q156.965 1527.28 157.844 1525.55 Q158.747 1523.79 158.747 1522.1 Q158.747 1519.34 156.803 1517.61 Q154.881 1515.87 151.779 1515.87 Q149.58 1515.87 147.127 1516.63 Q144.696 1517.4 141.918 1518.95 L141.918 1514.23 Q144.742 1513.09 147.196 1512.51 Q149.65 1511.93 151.687 1511.93 Q157.057 1511.93 160.252 1514.62 Q163.446 1517.31 163.446 1521.8 Q163.446 1523.93 162.636 1525.85 Q161.849 1527.74 159.742 1530.34 Q159.164 1531.01 156.062 1534.23 Q152.96 1537.42 147.312 1543.18 Z\" fill=\"#000000\" fill-rule=\"evenodd\" fill-opacity=\"1\" /><path clip-path=\"url(#clip810)\" d=\"M170.691 1532.24 L183.168 1532.24 L183.168 1536.03 L170.691 1536.03 L170.691 1532.24 Z\" fill=\"#000000\" fill-rule=\"evenodd\" fill-opacity=\"1\" /><path clip-path=\"url(#clip810)\" d=\"M200.552 1515.64 Q196.941 1515.64 195.113 1519.2 Q193.307 1522.75 193.307 1529.87 Q193.307 1536.98 195.113 1540.55 Q196.941 1544.09 200.552 1544.09 Q204.187 1544.09 205.992 1540.55 Q207.821 1536.98 207.821 1529.87 Q207.821 1522.75 205.992 1519.2 Q204.187 1515.64 200.552 1515.64 M200.552 1511.93 Q206.363 1511.93 209.418 1516.54 Q212.497 1521.12 212.497 1529.87 Q212.497 1538.6 209.418 1543.21 Q206.363 1547.79 200.552 1547.79 Q194.742 1547.79 191.664 1543.21 Q188.608 1538.6 188.608 1529.87 Q188.608 1521.12 191.664 1516.54 Q194.742 1511.93 200.552 1511.93 Z\" fill=\"#000000\" fill-rule=\"evenodd\" fill-opacity=\"1\" /><path clip-path=\"url(#clip810)\" d=\"M221.524 1543.18 L229.163 1543.18 L229.163 1516.82 L220.853 1518.49 L220.853 1514.23 L229.117 1512.56 L233.793 1512.56 L233.793 1543.18 L241.432 1543.18 L241.432 1547.12 L221.524 1547.12 L221.524 1543.18 Z\" fill=\"#000000\" fill-rule=\"evenodd\" fill-opacity=\"1\" /><path clip-path=\"url(#clip810)\" d=\"M248.122 1532.24 L260.598 1532.24 L260.598 1536.03 L248.122 1536.03 L248.122 1532.24 Z\" fill=\"#000000\" fill-rule=\"evenodd\" fill-opacity=\"1\" /><path clip-path=\"url(#clip810)\" d=\"M277.983 1515.64 Q274.371 1515.64 272.543 1519.2 Q270.737 1522.75 270.737 1529.87 Q270.737 1536.98 272.543 1540.55 Q274.371 1544.09 277.983 1544.09 Q281.617 1544.09 283.422 1540.55 Q285.251 1536.98 285.251 1529.87 Q285.251 1522.75 283.422 1519.2 Q281.617 1515.64 277.983 1515.64 M277.983 1511.93 Q283.793 1511.93 286.848 1516.54 Q289.927 1521.12 289.927 1529.87 Q289.927 1538.6 286.848 1543.21 Q283.793 1547.79 277.983 1547.79 Q272.172 1547.79 269.094 1543.21 Q266.038 1538.6 266.038 1529.87 Q266.038 1521.12 269.094 1516.54 Q272.172 1511.93 277.983 1511.93 Z\" fill=\"#000000\" fill-rule=\"evenodd\" fill-opacity=\"1\" /><path clip-path=\"url(#clip810)\" d=\"M298.955 1543.18 L306.593 1543.18 L306.593 1516.82 L298.283 1518.49 L298.283 1514.23 L306.547 1512.56 L311.223 1512.56 L311.223 1543.18 L318.862 1543.18 L318.862 1547.12 L298.955 1547.12 L298.955 1543.18 Z\" fill=\"#000000\" fill-rule=\"evenodd\" fill-opacity=\"1\" /><path clip-path=\"url(#clip810)\" d=\"M612.981 1543.18 L629.3 1543.18 L629.3 1547.12 L607.356 1547.12 L607.356 1543.18 Q610.018 1540.43 614.601 1535.8 Q619.208 1531.15 620.388 1529.81 Q622.634 1527.28 623.513 1525.55 Q624.416 1523.79 624.416 1522.1 Q624.416 1519.34 622.472 1517.61 Q620.55 1515.87 617.449 1515.87 Q615.25 1515.87 612.796 1516.63 Q610.365 1517.4 607.588 1518.95 L607.588 1514.23 Q610.412 1513.09 612.865 1512.51 Q615.319 1511.93 617.356 1511.93 Q622.726 1511.93 625.921 1514.62 Q629.115 1517.31 629.115 1521.8 Q629.115 1523.93 628.305 1525.85 Q627.518 1527.74 625.412 1530.34 Q624.833 1531.01 621.731 1534.23 Q618.629 1537.42 612.981 1543.18 Z\" fill=\"#000000\" fill-rule=\"evenodd\" fill-opacity=\"1\" /><path clip-path=\"url(#clip810)\" d=\"M649.115 1515.64 Q645.504 1515.64 643.675 1519.2 Q641.87 1522.75 641.87 1529.87 Q641.87 1536.98 643.675 1540.55 Q645.504 1544.09 649.115 1544.09 Q652.749 1544.09 654.555 1540.55 Q656.384 1536.98 656.384 1529.87 Q656.384 1522.75 654.555 1519.2 Q652.749 1515.64 649.115 1515.64 M649.115 1511.93 Q654.925 1511.93 657.981 1516.54 Q661.059 1521.12 661.059 1529.87 Q661.059 1538.6 657.981 1543.21 Q654.925 1547.79 649.115 1547.79 Q643.305 1547.79 640.226 1543.21 Q637.171 1538.6 637.171 1529.87 Q637.171 1521.12 640.226 1516.54 Q643.305 1511.93 649.115 1511.93 Z\" fill=\"#000000\" fill-rule=\"evenodd\" fill-opacity=\"1\" /><path clip-path=\"url(#clip810)\" d=\"M679.277 1515.64 Q675.666 1515.64 673.837 1519.2 Q672.032 1522.75 672.032 1529.87 Q672.032 1536.98 673.837 1540.55 Q675.666 1544.09 679.277 1544.09 Q682.911 1544.09 684.717 1540.55 Q686.545 1536.98 686.545 1529.87 Q686.545 1522.75 684.717 1519.2 Q682.911 1515.64 679.277 1515.64 M679.277 1511.93 Q685.087 1511.93 688.143 1516.54 Q691.221 1521.12 691.221 1529.87 Q691.221 1538.6 688.143 1543.21 Q685.087 1547.79 679.277 1547.79 Q673.467 1547.79 670.388 1543.21 Q667.333 1538.6 667.333 1529.87 Q667.333 1521.12 670.388 1516.54 Q673.467 1511.93 679.277 1511.93 Z\" fill=\"#000000\" fill-rule=\"evenodd\" fill-opacity=\"1\" /><path clip-path=\"url(#clip810)\" d=\"M698.258 1512.56 L720.48 1512.56 L720.48 1514.55 L707.934 1547.12 L703.05 1547.12 L714.855 1516.5 L698.258 1516.5 L698.258 1512.56 Z\" fill=\"#000000\" fill-rule=\"evenodd\" fill-opacity=\"1\" /><path clip-path=\"url(#clip810)\" d=\"M726.846 1532.24 L739.323 1532.24 L739.323 1536.03 L726.846 1536.03 L726.846 1532.24 Z\" fill=\"#000000\" fill-rule=\"evenodd\" fill-opacity=\"1\" /><path clip-path=\"url(#clip810)\" d=\"M756.707 1515.64 Q753.096 1515.64 751.267 1519.2 Q749.462 1522.75 749.462 1529.87 Q749.462 1536.98 751.267 1540.55 Q753.096 1544.09 756.707 1544.09 Q760.341 1544.09 762.147 1540.55 Q763.976 1536.98 763.976 1529.87 Q763.976 1522.75 762.147 1519.2 Q760.341 1515.64 756.707 1515.64 M756.707 1511.93 Q762.517 1511.93 765.573 1516.54 Q768.651 1521.12 768.651 1529.87 Q768.651 1538.6 765.573 1543.21 Q762.517 1547.79 756.707 1547.79 Q750.897 1547.79 747.818 1543.21 Q744.763 1538.6 744.763 1529.87 Q744.763 1521.12 747.818 1516.54 Q750.897 1511.93 756.707 1511.93 Z\" fill=\"#000000\" fill-rule=\"evenodd\" fill-opacity=\"1\" /><path clip-path=\"url(#clip810)\" d=\"M777.679 1543.18 L785.318 1543.18 L785.318 1516.82 L777.008 1518.49 L777.008 1514.23 L785.272 1512.56 L789.948 1512.56 L789.948 1543.18 L797.587 1543.18 L797.587 1547.12 L777.679 1547.12 L777.679 1543.18 Z\" fill=\"#000000\" fill-rule=\"evenodd\" fill-opacity=\"1\" /><path clip-path=\"url(#clip810)\" d=\"M804.276 1532.24 L816.753 1532.24 L816.753 1536.03 L804.276 1536.03 L804.276 1532.24 Z\" fill=\"#000000\" fill-rule=\"evenodd\" fill-opacity=\"1\" /><path clip-path=\"url(#clip810)\" d=\"M834.137 1515.64 Q830.526 1515.64 828.697 1519.2 Q826.892 1522.75 826.892 1529.87 Q826.892 1536.98 828.697 1540.55 Q830.526 1544.09 834.137 1544.09 Q837.771 1544.09 839.577 1540.55 Q841.406 1536.98 841.406 1529.87 Q841.406 1522.75 839.577 1519.2 Q837.771 1515.64 834.137 1515.64 M834.137 1511.93 Q839.947 1511.93 843.003 1516.54 Q846.082 1521.12 846.082 1529.87 Q846.082 1538.6 843.003 1543.21 Q839.947 1547.79 834.137 1547.79 Q828.327 1547.79 825.248 1543.21 Q822.193 1538.6 822.193 1529.87 Q822.193 1521.12 825.248 1516.54 Q828.327 1511.93 834.137 1511.93 Z\" fill=\"#000000\" fill-rule=\"evenodd\" fill-opacity=\"1\" /><path clip-path=\"url(#clip810)\" d=\"M855.109 1543.18 L862.748 1543.18 L862.748 1516.82 L854.438 1518.49 L854.438 1514.23 L862.702 1512.56 L867.378 1512.56 L867.378 1543.18 L875.017 1543.18 L875.017 1547.12 L855.109 1547.12 L855.109 1543.18 Z\" fill=\"#000000\" fill-rule=\"evenodd\" fill-opacity=\"1\" /><path clip-path=\"url(#clip810)\" d=\"M1169.14 1543.18 L1185.46 1543.18 L1185.46 1547.12 L1163.51 1547.12 L1163.51 1543.18 Q1166.17 1540.43 1170.76 1535.8 Q1175.36 1531.15 1176.54 1529.81 Q1178.79 1527.28 1179.67 1525.55 Q1180.57 1523.79 1180.57 1522.1 Q1180.57 1519.34 1178.63 1517.61 Q1176.71 1515.87 1173.6 1515.87 Q1171.4 1515.87 1168.95 1516.63 Q1166.52 1517.4 1163.74 1518.95 L1163.74 1514.23 Q1166.57 1513.09 1169.02 1512.51 Q1171.47 1511.93 1173.51 1511.93 Q1178.88 1511.93 1182.08 1514.62 Q1185.27 1517.31 1185.27 1521.8 Q1185.27 1523.93 1184.46 1525.85 Q1183.67 1527.74 1181.57 1530.34 Q1180.99 1531.01 1177.89 1534.23 Q1174.78 1537.42 1169.14 1543.18 Z\" fill=\"#000000\" fill-rule=\"evenodd\" fill-opacity=\"1\" /><path clip-path=\"url(#clip810)\" d=\"M1205.27 1515.64 Q1201.66 1515.64 1199.83 1519.2 Q1198.02 1522.75 1198.02 1529.87 Q1198.02 1536.98 1199.83 1540.55 Q1201.66 1544.09 1205.27 1544.09 Q1208.9 1544.09 1210.71 1540.55 Q1212.54 1536.98 1212.54 1529.87 Q1212.54 1522.75 1210.71 1519.2 Q1208.9 1515.64 1205.27 1515.64 M1205.27 1511.93 Q1211.08 1511.93 1214.14 1516.54 Q1217.21 1521.12 1217.21 1529.87 Q1217.21 1538.6 1214.14 1543.21 Q1211.08 1547.79 1205.27 1547.79 Q1199.46 1547.79 1196.38 1543.21 Q1193.33 1538.6 1193.33 1529.87 Q1193.33 1521.12 1196.38 1516.54 Q1199.46 1511.93 1205.27 1511.93 Z\" fill=\"#000000\" fill-rule=\"evenodd\" fill-opacity=\"1\" /><path clip-path=\"url(#clip810)\" d=\"M1226.24 1543.18 L1233.88 1543.18 L1233.88 1516.82 L1225.57 1518.49 L1225.57 1514.23 L1233.83 1512.56 L1238.51 1512.56 L1238.51 1543.18 L1246.15 1543.18 L1246.15 1547.12 L1226.24 1547.12 L1226.24 1543.18 Z\" fill=\"#000000\" fill-rule=\"evenodd\" fill-opacity=\"1\" /><path clip-path=\"url(#clip810)\" d=\"M1259.62 1543.18 L1275.94 1543.18 L1275.94 1547.12 L1254 1547.12 L1254 1543.18 Q1256.66 1540.43 1261.24 1535.8 Q1265.85 1531.15 1267.03 1529.81 Q1269.27 1527.28 1270.15 1525.55 Q1271.06 1523.79 1271.06 1522.1 Q1271.06 1519.34 1269.11 1517.61 Q1267.19 1515.87 1264.09 1515.87 Q1261.89 1515.87 1259.44 1516.63 Q1257.01 1517.4 1254.23 1518.95 L1254.23 1514.23 Q1257.05 1513.09 1259.51 1512.51 Q1261.96 1511.93 1264 1511.93 Q1269.37 1511.93 1272.56 1514.62 Q1275.76 1517.31 1275.76 1521.8 Q1275.76 1523.93 1274.95 1525.85 Q1274.16 1527.74 1272.05 1530.34 Q1271.47 1531.01 1268.37 1534.23 Q1265.27 1537.42 1259.62 1543.18 Z\" fill=\"#000000\" fill-rule=\"evenodd\" fill-opacity=\"1\" /><path clip-path=\"url(#clip810)\" d=\"M1283 1532.24 L1295.48 1532.24 L1295.48 1536.03 L1283 1536.03 L1283 1532.24 Z\" fill=\"#000000\" fill-rule=\"evenodd\" fill-opacity=\"1\" /><path clip-path=\"url(#clip810)\" d=\"M1312.86 1515.64 Q1309.25 1515.64 1307.42 1519.2 Q1305.62 1522.75 1305.62 1529.87 Q1305.62 1536.98 1307.42 1540.55 Q1309.25 1544.09 1312.86 1544.09 Q1316.5 1544.09 1318.3 1540.55 Q1320.13 1536.98 1320.13 1529.87 Q1320.13 1522.75 1318.3 1519.2 Q1316.5 1515.64 1312.86 1515.64 M1312.86 1511.93 Q1318.67 1511.93 1321.73 1516.54 Q1324.81 1521.12 1324.81 1529.87 Q1324.81 1538.6 1321.73 1543.21 Q1318.67 1547.79 1312.86 1547.79 Q1307.05 1547.79 1303.97 1543.21 Q1300.92 1538.6 1300.92 1529.87 Q1300.92 1521.12 1303.97 1516.54 Q1307.05 1511.93 1312.86 1511.93 Z\" fill=\"#000000\" fill-rule=\"evenodd\" fill-opacity=\"1\" /><path clip-path=\"url(#clip810)\" d=\"M1333.83 1543.18 L1341.47 1543.18 L1341.47 1516.82 L1333.16 1518.49 L1333.16 1514.23 L1341.43 1512.56 L1346.1 1512.56 L1346.1 1543.18 L1353.74 1543.18 L1353.74 1547.12 L1333.83 1547.12 L1333.83 1543.18 Z\" fill=\"#000000\" fill-rule=\"evenodd\" fill-opacity=\"1\" /><path clip-path=\"url(#clip810)\" d=\"M1360.43 1532.24 L1372.91 1532.24 L1372.91 1536.03 L1360.43 1536.03 L1360.43 1532.24 Z\" fill=\"#000000\" fill-rule=\"evenodd\" fill-opacity=\"1\" /><path clip-path=\"url(#clip810)\" d=\"M1390.29 1515.64 Q1386.68 1515.64 1384.85 1519.2 Q1383.05 1522.75 1383.05 1529.87 Q1383.05 1536.98 1384.85 1540.55 Q1386.68 1544.09 1390.29 1544.09 Q1393.93 1544.09 1395.73 1540.55 Q1397.56 1536.98 1397.56 1529.87 Q1397.56 1522.75 1395.73 1519.2 Q1393.93 1515.64 1390.29 1515.64 M1390.29 1511.93 Q1396.1 1511.93 1399.16 1516.54 Q1402.24 1521.12 1402.24 1529.87 Q1402.24 1538.6 1399.16 1543.21 Q1396.1 1547.79 1390.29 1547.79 Q1384.48 1547.79 1381.4 1543.21 Q1378.35 1538.6 1378.35 1529.87 Q1378.35 1521.12 1381.4 1516.54 Q1384.48 1511.93 1390.29 1511.93 Z\" fill=\"#000000\" fill-rule=\"evenodd\" fill-opacity=\"1\" /><path clip-path=\"url(#clip810)\" d=\"M1411.26 1543.18 L1418.9 1543.18 L1418.9 1516.82 L1410.59 1518.49 L1410.59 1514.23 L1418.86 1512.56 L1423.53 1512.56 L1423.53 1543.18 L1431.17 1543.18 L1431.17 1547.12 L1411.26 1547.12 L1411.26 1543.18 Z\" fill=\"#000000\" fill-rule=\"evenodd\" fill-opacity=\"1\" /><path clip-path=\"url(#clip810)\" d=\"M1725.6 1543.18 L1741.91 1543.18 L1741.91 1547.12 L1719.97 1547.12 L1719.97 1543.18 Q1722.63 1540.43 1727.22 1535.8 Q1731.82 1531.15 1733 1529.81 Q1735.25 1527.28 1736.13 1525.55 Q1737.03 1523.79 1737.03 1522.1 Q1737.03 1519.34 1735.09 1517.61 Q1733.16 1515.87 1730.06 1515.87 Q1727.86 1515.87 1725.41 1516.63 Q1722.98 1517.4 1720.2 1518.95 L1720.2 1514.23 Q1723.03 1513.09 1725.48 1512.51 Q1727.93 1511.93 1729.97 1511.93 Q1735.34 1511.93 1738.53 1514.62 Q1741.73 1517.31 1741.73 1521.8 Q1741.73 1523.93 1740.92 1525.85 Q1740.13 1527.74 1738.03 1530.34 Q1737.45 1531.01 1734.35 1534.23 Q1731.24 1537.42 1725.6 1543.18 Z\" fill=\"#000000\" fill-rule=\"evenodd\" fill-opacity=\"1\" /><path clip-path=\"url(#clip810)\" d=\"M1761.73 1515.64 Q1758.12 1515.64 1756.29 1519.2 Q1754.48 1522.75 1754.48 1529.87 Q1754.48 1536.98 1756.29 1540.55 Q1758.12 1544.09 1761.73 1544.09 Q1765.36 1544.09 1767.17 1540.55 Q1769 1536.98 1769 1529.87 Q1769 1522.75 1767.17 1519.2 Q1765.36 1515.64 1761.73 1515.64 M1761.73 1511.93 Q1767.54 1511.93 1770.59 1516.54 Q1773.67 1521.12 1773.67 1529.87 Q1773.67 1538.6 1770.59 1543.21 Q1767.54 1547.79 1761.73 1547.79 Q1755.92 1547.79 1752.84 1543.21 Q1749.78 1538.6 1749.78 1529.87 Q1749.78 1521.12 1752.84 1516.54 Q1755.92 1511.93 1761.73 1511.93 Z\" fill=\"#000000\" fill-rule=\"evenodd\" fill-opacity=\"1\" /><path clip-path=\"url(#clip810)\" d=\"M1782.7 1543.18 L1790.34 1543.18 L1790.34 1516.82 L1782.03 1518.49 L1782.03 1514.23 L1790.29 1512.56 L1794.97 1512.56 L1794.97 1543.18 L1802.61 1543.18 L1802.61 1547.12 L1782.7 1547.12 L1782.7 1543.18 Z\" fill=\"#000000\" fill-rule=\"evenodd\" fill-opacity=\"1\" /><path clip-path=\"url(#clip810)\" d=\"M1810.87 1512.56 L1833.09 1512.56 L1833.09 1514.55 L1820.55 1547.12 L1815.66 1547.12 L1827.47 1516.5 L1810.87 1516.5 L1810.87 1512.56 Z\" fill=\"#000000\" fill-rule=\"evenodd\" fill-opacity=\"1\" /><path clip-path=\"url(#clip810)\" d=\"M1839.46 1532.24 L1851.94 1532.24 L1851.94 1536.03 L1839.46 1536.03 L1839.46 1532.24 Z\" fill=\"#000000\" fill-rule=\"evenodd\" fill-opacity=\"1\" /><path clip-path=\"url(#clip810)\" d=\"M1869.32 1515.64 Q1865.71 1515.64 1863.88 1519.2 Q1862.08 1522.75 1862.08 1529.87 Q1862.08 1536.98 1863.88 1540.55 Q1865.71 1544.09 1869.32 1544.09 Q1872.96 1544.09 1874.76 1540.55 Q1876.59 1536.98 1876.59 1529.87 Q1876.59 1522.75 1874.76 1519.2 Q1872.96 1515.64 1869.32 1515.64 M1869.32 1511.93 Q1875.13 1511.93 1878.19 1516.54 Q1881.27 1521.12 1881.27 1529.87 Q1881.27 1538.6 1878.19 1543.21 Q1875.13 1547.79 1869.32 1547.79 Q1863.51 1547.79 1860.43 1543.21 Q1857.38 1538.6 1857.38 1529.87 Q1857.38 1521.12 1860.43 1516.54 Q1863.51 1511.93 1869.32 1511.93 Z\" fill=\"#000000\" fill-rule=\"evenodd\" fill-opacity=\"1\" /><path clip-path=\"url(#clip810)\" d=\"M1890.29 1543.18 L1897.93 1543.18 L1897.93 1516.82 L1889.62 1518.49 L1889.62 1514.23 L1897.89 1512.56 L1902.56 1512.56 L1902.56 1543.18 L1910.2 1543.18 L1910.2 1547.12 L1890.29 1547.12 L1890.29 1543.18 Z\" fill=\"#000000\" fill-rule=\"evenodd\" fill-opacity=\"1\" /><path clip-path=\"url(#clip810)\" d=\"M1916.89 1532.24 L1929.37 1532.24 L1929.37 1536.03 L1916.89 1536.03 L1916.89 1532.24 Z\" fill=\"#000000\" fill-rule=\"evenodd\" fill-opacity=\"1\" /><path clip-path=\"url(#clip810)\" d=\"M1946.75 1515.64 Q1943.14 1515.64 1941.31 1519.2 Q1939.51 1522.75 1939.51 1529.87 Q1939.51 1536.98 1941.31 1540.55 Q1943.14 1544.09 1946.75 1544.09 Q1950.39 1544.09 1952.19 1540.55 Q1954.02 1536.98 1954.02 1529.87 Q1954.02 1522.75 1952.19 1519.2 Q1950.39 1515.64 1946.75 1515.64 M1946.75 1511.93 Q1952.56 1511.93 1955.62 1516.54 Q1958.7 1521.12 1958.7 1529.87 Q1958.7 1538.6 1955.62 1543.21 Q1952.56 1547.79 1946.75 1547.79 Q1940.94 1547.79 1937.86 1543.21 Q1934.81 1538.6 1934.81 1529.87 Q1934.81 1521.12 1937.86 1516.54 Q1940.94 1511.93 1946.75 1511.93 Z\" fill=\"#000000\" fill-rule=\"evenodd\" fill-opacity=\"1\" /><path clip-path=\"url(#clip810)\" d=\"M1967.72 1543.18 L1975.36 1543.18 L1975.36 1516.82 L1967.05 1518.49 L1967.05 1514.23 L1975.32 1512.56 L1979.99 1512.56 L1979.99 1543.18 L1987.63 1543.18 L1987.63 1547.12 L1967.72 1547.12 L1967.72 1543.18 Z\" fill=\"#000000\" fill-rule=\"evenodd\" fill-opacity=\"1\" /><polyline clip-path=\"url(#clip812)\" style=\"stroke:#000000; stroke-linecap:butt; stroke-linejoin:round; stroke-width:2; stroke-opacity:0.1; fill:none\" points=\"\n  112.177,1250.17 2352.76,1250.17 \n  \"/>\n<polyline clip-path=\"url(#clip812)\" style=\"stroke:#000000; stroke-linecap:butt; stroke-linejoin:round; stroke-width:2; stroke-opacity:0.1; fill:none\" points=\"\n  112.177,892.696 2352.76,892.696 \n  \"/>\n<polyline clip-path=\"url(#clip812)\" style=\"stroke:#000000; stroke-linecap:butt; stroke-linejoin:round; stroke-width:2; stroke-opacity:0.1; fill:none\" points=\"\n  112.177,535.224 2352.76,535.224 \n  \"/>\n<polyline clip-path=\"url(#clip812)\" style=\"stroke:#000000; stroke-linecap:butt; stroke-linejoin:round; stroke-width:2; stroke-opacity:0.1; fill:none\" points=\"\n  112.177,177.753 2352.76,177.753 \n  \"/>\n<polyline clip-path=\"url(#clip810)\" style=\"stroke:#000000; stroke-linecap:butt; stroke-linejoin:round; stroke-width:4; stroke-opacity:1; fill:none\" points=\"\n  112.177,1486.45 112.177,47.2441 \n  \"/>\n<polyline clip-path=\"url(#clip810)\" style=\"stroke:#000000; stroke-linecap:butt; stroke-linejoin:round; stroke-width:4; stroke-opacity:1; fill:none\" points=\"\n  112.177,1250.17 139.064,1250.17 \n  \"/>\n<polyline clip-path=\"url(#clip810)\" style=\"stroke:#000000; stroke-linecap:butt; stroke-linejoin:round; stroke-width:4; stroke-opacity:1; fill:none\" points=\"\n  112.177,892.696 139.064,892.696 \n  \"/>\n<polyline clip-path=\"url(#clip810)\" style=\"stroke:#000000; stroke-linecap:butt; stroke-linejoin:round; stroke-width:4; stroke-opacity:1; fill:none\" points=\"\n  112.177,535.224 139.064,535.224 \n  \"/>\n<polyline clip-path=\"url(#clip810)\" style=\"stroke:#000000; stroke-linecap:butt; stroke-linejoin:round; stroke-width:4; stroke-opacity:1; fill:none\" points=\"\n  112.177,177.753 139.064,177.753 \n  \"/>\n<path clip-path=\"url(#clip810)\" d=\"M66.5939 1236.96 L54.7884 1255.41 L66.5939 1255.41 L66.5939 1236.96 M65.367 1232.89 L71.2466 1232.89 L71.2466 1255.41 L76.1772 1255.41 L76.1772 1259.3 L71.2466 1259.3 L71.2466 1267.45 L66.5939 1267.45 L66.5939 1259.3 L50.9921 1259.3 L50.9921 1254.79 L65.367 1232.89 Z\" fill=\"#000000\" fill-rule=\"evenodd\" fill-opacity=\"1\" /><path clip-path=\"url(#clip810)\" d=\"M55.2745 875.416 L73.6309 875.416 L73.6309 879.351 L59.5569 879.351 L59.5569 887.823 Q60.5754 887.476 61.5939 887.314 Q62.6124 887.129 63.6309 887.129 Q69.418 887.129 72.7976 890.3 Q76.1772 893.471 76.1772 898.888 Q76.1772 904.466 72.705 907.568 Q69.2328 910.647 62.9134 910.647 Q60.7374 910.647 58.4689 910.277 Q56.2236 909.906 53.8162 909.165 L53.8162 904.466 Q55.8995 905.601 58.1217 906.156 Q60.3439 906.712 62.8208 906.712 Q66.8254 906.712 69.1633 904.605 Q71.5013 902.499 71.5013 898.888 Q71.5013 895.277 69.1633 893.17 Q66.8254 891.064 62.8208 891.064 Q60.9458 891.064 59.0708 891.48 Q57.2189 891.897 55.2745 892.777 L55.2745 875.416 Z\" fill=\"#000000\" fill-rule=\"evenodd\" fill-opacity=\"1\" /><path clip-path=\"url(#clip810)\" d=\"M64.6495 533.361 Q61.5013 533.361 59.6495 535.514 Q57.8208 537.666 57.8208 541.416 Q57.8208 545.143 59.6495 547.319 Q61.5013 549.472 64.6495 549.472 Q67.7976 549.472 69.6263 547.319 Q71.4781 545.143 71.4781 541.416 Q71.4781 537.666 69.6263 535.514 Q67.7976 533.361 64.6495 533.361 M73.9318 518.708 L73.9318 522.967 Q72.1726 522.134 70.367 521.694 Q68.5846 521.255 66.8254 521.255 Q62.1958 521.255 59.7421 524.379 Q57.3115 527.504 56.9643 533.824 Q58.33 531.81 60.3902 530.745 Q62.4504 529.657 64.9272 529.657 Q70.1355 529.657 73.1448 532.829 Q76.1772 535.977 76.1772 541.416 Q76.1772 546.74 73.029 549.958 Q69.8809 553.176 64.6495 553.176 Q58.6541 553.176 55.4828 548.592 Q52.3116 543.986 52.3116 535.259 Q52.3116 527.065 56.2004 522.204 Q60.0893 517.319 66.6402 517.319 Q68.3994 517.319 70.1818 517.667 Q71.9874 518.014 73.9318 518.708 Z\" fill=\"#000000\" fill-rule=\"evenodd\" fill-opacity=\"1\" /><path clip-path=\"url(#clip810)\" d=\"M53.9551 160.473 L76.1772 160.473 L76.1772 162.464 L63.6309 195.033 L58.7467 195.033 L70.5522 164.408 L53.9551 164.408 L53.9551 160.473 Z\" fill=\"#000000\" fill-rule=\"evenodd\" fill-opacity=\"1\" /><polyline clip-path=\"url(#clip812)\" style=\"stroke:#009af9; stroke-linecap:butt; stroke-linejoin:round; stroke-width:4; stroke-opacity:1; fill:none\" points=\"\n  175.59,97.1964 185.032,98.6134 194.473,100.512 203.002,101.417 212.443,101.452 221.581,101.776 231.023,102.199 240.16,102.087 249.602,103.03 259.043,104.061 \n  268.181,104.787 277.623,105.766 286.76,106.312 296.202,107.497 305.643,107.679 314.172,106.983 323.613,107.397 332.751,107.955 342.193,107.489 351.33,107.375 \n  360.772,107.267 370.213,107.471 379.351,107.842 388.793,107.741 397.93,108.015 407.372,107.282 416.814,107.323 425.646,107.74 435.088,108.029 444.225,107.76 \n  453.667,107.981 462.804,107.844 472.246,107.683 481.688,108.505 490.825,108.591 500.267,108.212 509.404,107.983 518.846,108.124 528.288,107.822 536.816,107.892 \n  546.258,109.192 555.395,109.14 564.837,109.927 573.974,111.318 583.416,112.202 592.858,112.916 601.995,112.214 611.437,112.109 620.574,111.505 630.016,110.031 \n  639.458,109.688 647.986,108.146 657.428,105.032 666.565,102.8 676.007,100.103 685.144,98.0381 694.586,96.5591 704.028,93.985 713.165,91.7444 722.607,89.747 \n  731.745,88.5522 741.186,88.3232 750.628,87.9763 759.156,89.0063 768.598,89.9203 777.735,91.9668 787.177,93.8001 796.315,94.5661 805.756,96.1091 815.198,95.9466 \n  824.335,97.2433 833.777,99.3068 842.915,99.6235 852.356,100.548 861.798,99.3087 870.631,99.0373 880.073,99.4406 889.21,99.5886 898.652,99.652 907.789,99.9377 \n  917.231,99.5858 926.673,100.883 935.81,101.711 945.252,102.401 954.389,103.545 963.831,103.721 973.273,103.851 981.801,103.594 991.243,103.405 1000.38,102.947 \n  1009.82,103.656 1018.96,103.872 1028.4,104.12 1037.84,103.553 1046.98,104.49 1056.42,104.551 1065.56,104.936 1075,105.677 1084.44,107.263 1092.97,107.963 \n  1102.41,108.524 1111.55,109.383 1120.99,110.606 1130.13,111.48 1139.57,112.742 1149.01,113.753 1158.15,114.132 1167.59,114.872 1176.73,114.228 1186.17,433.725 \n  1195.61,579.672 1204.14,672.571 1213.58,752.919 1222.72,837.541 1232.16,926.452 1241.3,1005.26 1250.74,1086.19 1260.18,1173.05 1269.32,1258.81 1278.76,1344.22 \n  1287.9,1444.75 1297.34,1444.91 1306.78,1444.66 1315.62,1445.1 1325.06,1444.78 1334.19,1444.74 1343.64,1444.74 1352.77,1444.67 1362.22,1444.63 1371.66,1444.5 \n  1380.79,1444.78 1390.24,1444.91 1399.37,1445.32 1408.82,1445.46 1418.26,1445.72 1426.79,1445.38 1436.23,1445.52 1445.36,1445.11 1454.81,1444.67 1463.94,1444.44 \n  1473.39,1444.25 1482.83,1444.52 1491.96,1443.8 1501.41,1443.37 1510.54,1442.74 1519.99,1442.37 1529.43,1442.2 1537.96,1441.82 1547.4,1441.46 1556.53,1441.46 \n  1565.98,1440.9 1575.11,1440.53 1584.56,1440.31 1594,1439.68 1603.13,1439.77 1612.58,1439.58 1621.71,1439.6 1631.16,1439.74 1640.6,1439.41 1649.13,1439.88 \n  1658.57,1439.98 1667.7,1439.77 1677.15,1440.41 1686.28,1440.52 1695.73,1440.84 1705.17,1441.17 1714.3,1441.21 1723.75,1441.6 1732.88,1441.78 1742.33,1441.65 \n  1751.77,1442.03 1760.6,1441.69 1770.04,1441.59 1779.18,1442.16 1788.62,1441.75 1797.76,1441.64 1807.2,1441.26 1816.64,1440.52 1825.78,1440 1835.22,1439.44 \n  1844.36,1438.86 1853.8,1438.44 1863.24,1437.82 1871.77,1437.74 1881.21,1437.65 1890.35,1437 1899.79,1437.04 1908.93,1436.76 1918.37,1436.56 1927.81,1436.49 \n  1936.95,1436.68 1946.39,1436.53 1955.53,1436.96 1964.97,1437.29 1974.41,1437.4 1982.94,1437.25 1992.38,1437.25 2001.52,1437.46 2010.96,1437.51 2020.1,1438.2 \n  2029.54,1438.71 2038.98,1439.39 2048.12,1440.02 2057.56,1440.76 2066.7,1441.02 2076.14,1441.01 2085.58,1441.42 2094.11,1441.59 2103.55,1441.57 2112.69,1441.52 \n  2122.13,1441.34 2131.27,1440.65 2140.71,1440.19 2150.15,1439.7 2159.29,1439.08 2168.73,1438.44 2177.87,1437.66 2187.31,1437.47 2196.75,1437.41 2205.59,1437.1 \n  2215.03,1436.79 2224.16,1436.52 2233.61,1436.33 2242.74,1436.64 2252.19,1436.92 2261.63,1437.22 2270.76,1437.39 2280.21,1438.11 2289.34,1438.86 \n  \"/>\n<path clip-path=\"url(#clip810)\" d=\"\nM1528.22 216.178 L2278.07 216.178 L2278.07 95.2176 L1528.22 95.2176  Z\n  \" fill=\"#ffffff\" fill-rule=\"evenodd\" fill-opacity=\"1\"/>\n<polyline clip-path=\"url(#clip810)\" style=\"stroke:#000000; stroke-linecap:butt; stroke-linejoin:round; stroke-width:4; stroke-opacity:1; fill:none\" points=\"\n  1528.22,216.178 2278.07,216.178 2278.07,95.2176 1528.22,95.2176 1528.22,216.178 \n  \"/>\n<polyline clip-path=\"url(#clip810)\" style=\"stroke:#009af9; stroke-linecap:butt; stroke-linejoin:round; stroke-width:4; stroke-opacity:1; fill:none\" points=\"\n  1553.11,155.698 1702.48,155.698 \n  \"/>\n<path clip-path=\"url(#clip810)\" d=\"M1727.38 138.418 L1756.62 138.418 L1756.62 142.353 L1744.35 142.353 L1744.35 172.978 L1739.65 172.978 L1739.65 142.353 L1727.38 142.353 L1727.38 138.418 Z\" fill=\"#000000\" fill-rule=\"evenodd\" fill-opacity=\"1\" /><path clip-path=\"url(#clip810)\" d=\"M1769 151.033 Q1768.28 150.617 1767.43 150.431 Q1766.59 150.223 1765.57 150.223 Q1761.96 150.223 1760.02 152.584 Q1758.1 154.922 1758.1 159.32 L1758.1 172.978 L1753.81 172.978 L1753.81 147.052 L1758.1 147.052 L1758.1 151.08 Q1759.44 148.718 1761.59 147.584 Q1763.74 146.427 1766.82 146.427 Q1767.26 146.427 1767.8 146.496 Q1768.33 146.543 1768.98 146.658 L1769 151.033 Z\" fill=\"#000000\" fill-rule=\"evenodd\" fill-opacity=\"1\" /><path clip-path=\"url(#clip810)\" d=\"M1785.25 159.945 Q1780.09 159.945 1778.1 161.126 Q1776.11 162.306 1776.11 165.154 Q1776.11 167.422 1777.59 168.765 Q1779.09 170.084 1781.66 170.084 Q1785.2 170.084 1787.33 167.584 Q1789.49 165.061 1789.49 160.894 L1789.49 159.945 L1785.25 159.945 M1793.74 158.186 L1793.74 172.978 L1789.49 172.978 L1789.49 169.042 Q1788.03 171.403 1785.85 172.538 Q1783.68 173.649 1780.53 173.649 Q1776.55 173.649 1774.18 171.427 Q1771.85 169.181 1771.85 165.431 Q1771.85 161.056 1774.76 158.834 Q1777.7 156.612 1783.51 156.612 L1789.49 156.612 L1789.49 156.195 Q1789.49 153.255 1787.54 151.658 Q1785.62 150.038 1782.12 150.038 Q1779.9 150.038 1777.8 150.57 Q1775.69 151.103 1773.74 152.167 L1773.74 148.232 Q1776.08 147.33 1778.28 146.89 Q1780.48 146.427 1782.56 146.427 Q1788.19 146.427 1790.97 149.343 Q1793.74 152.26 1793.74 158.186 Z\" fill=\"#000000\" fill-rule=\"evenodd\" fill-opacity=\"1\" /><path clip-path=\"url(#clip810)\" d=\"M1813.3 175.385 Q1811.5 180.015 1809.79 181.427 Q1808.07 182.839 1805.2 182.839 L1801.8 182.839 L1801.8 179.274 L1804.3 179.274 Q1806.06 179.274 1807.03 178.44 Q1808 177.607 1809.18 174.505 L1809.95 172.561 L1799.46 147.052 L1803.98 147.052 L1812.08 167.329 L1820.18 147.052 L1824.69 147.052 L1813.3 175.385 Z\" fill=\"#000000\" fill-rule=\"evenodd\" fill-opacity=\"1\" /><path clip-path=\"url(#clip810)\" d=\"M1852.75 158.95 L1852.75 161.033 L1833.17 161.033 Q1833.44 165.431 1835.8 167.746 Q1838.19 170.038 1842.42 170.038 Q1844.88 170.038 1847.17 169.436 Q1849.49 168.834 1851.75 167.63 L1851.75 171.658 Q1849.46 172.63 1847.05 173.14 Q1844.65 173.649 1842.17 173.649 Q1835.97 173.649 1832.33 170.038 Q1828.72 166.427 1828.72 160.269 Q1828.72 153.904 1832.15 150.177 Q1835.6 146.427 1841.43 146.427 Q1846.66 146.427 1849.69 149.806 Q1852.75 153.163 1852.75 158.95 M1848.49 157.7 Q1848.44 154.205 1846.52 152.121 Q1844.62 150.038 1841.48 150.038 Q1837.91 150.038 1835.76 152.052 Q1833.63 154.066 1833.3 157.723 L1848.49 157.7 Z\" fill=\"#000000\" fill-rule=\"evenodd\" fill-opacity=\"1\" /><path clip-path=\"url(#clip810)\" d=\"M1878.4 148.047 L1878.4 152.029 Q1876.59 151.033 1874.76 150.547 Q1872.96 150.038 1871.11 150.038 Q1866.96 150.038 1864.67 152.677 Q1862.38 155.292 1862.38 160.038 Q1862.38 164.783 1864.67 167.422 Q1866.96 170.038 1871.11 170.038 Q1872.96 170.038 1874.76 169.552 Q1876.59 169.042 1878.4 168.047 L1878.4 171.982 Q1876.61 172.816 1874.69 173.232 Q1872.8 173.649 1870.64 173.649 Q1864.79 173.649 1861.34 169.968 Q1857.89 166.288 1857.89 160.038 Q1857.89 153.695 1861.36 150.061 Q1864.86 146.427 1870.92 146.427 Q1872.89 146.427 1874.76 146.843 Q1876.64 147.237 1878.4 148.047 Z\" fill=\"#000000\" fill-rule=\"evenodd\" fill-opacity=\"1\" /><path clip-path=\"url(#clip810)\" d=\"M1890.02 139.691 L1890.02 147.052 L1898.79 147.052 L1898.79 150.362 L1890.02 150.362 L1890.02 164.436 Q1890.02 167.607 1890.87 168.51 Q1891.75 169.413 1894.42 169.413 L1898.79 169.413 L1898.79 172.978 L1894.42 172.978 Q1889.48 172.978 1887.61 171.149 Q1885.73 169.297 1885.73 164.436 L1885.73 150.362 L1882.61 150.362 L1882.61 147.052 L1885.73 147.052 L1885.73 139.691 L1890.02 139.691 Z\" fill=\"#000000\" fill-rule=\"evenodd\" fill-opacity=\"1\" /><path clip-path=\"url(#clip810)\" d=\"M1914.44 150.038 Q1911.01 150.038 1909.02 152.723 Q1907.03 155.385 1907.03 160.038 Q1907.03 164.691 1909 167.376 Q1910.99 170.038 1914.44 170.038 Q1917.84 170.038 1919.83 167.353 Q1921.82 164.667 1921.82 160.038 Q1921.82 155.431 1919.83 152.746 Q1917.84 150.038 1914.44 150.038 M1914.44 146.427 Q1919.99 146.427 1923.17 150.038 Q1926.34 153.649 1926.34 160.038 Q1926.34 166.404 1923.17 170.038 Q1919.99 173.649 1914.44 173.649 Q1908.86 173.649 1905.69 170.038 Q1902.54 166.404 1902.54 160.038 Q1902.54 153.649 1905.69 150.038 Q1908.86 146.427 1914.44 146.427 Z\" fill=\"#000000\" fill-rule=\"evenodd\" fill-opacity=\"1\" /><path clip-path=\"url(#clip810)\" d=\"M1948.42 151.033 Q1947.7 150.617 1946.85 150.431 Q1946.01 150.223 1944.99 150.223 Q1941.38 150.223 1939.44 152.584 Q1937.52 154.922 1937.52 159.32 L1937.52 172.978 L1933.23 172.978 L1933.23 147.052 L1937.52 147.052 L1937.52 151.08 Q1938.86 148.718 1941.01 147.584 Q1943.17 146.427 1946.24 146.427 Q1946.68 146.427 1947.22 146.496 Q1947.75 146.543 1948.4 146.658 L1948.42 151.033 Z\" fill=\"#000000\" fill-rule=\"evenodd\" fill-opacity=\"1\" /><path clip-path=\"url(#clip810)\" d=\"M1952.89 147.052 L1957.15 147.052 L1957.15 172.978 L1952.89 172.978 L1952.89 147.052 M1952.89 136.959 L1957.15 136.959 L1957.15 142.353 L1952.89 142.353 L1952.89 136.959 Z\" fill=\"#000000\" fill-rule=\"evenodd\" fill-opacity=\"1\" /><path clip-path=\"url(#clip810)\" d=\"M1977.84 159.945 Q1972.68 159.945 1970.69 161.126 Q1968.7 162.306 1968.7 165.154 Q1968.7 167.422 1970.18 168.765 Q1971.68 170.084 1974.25 170.084 Q1977.79 170.084 1979.92 167.584 Q1982.08 165.061 1982.08 160.894 L1982.08 159.945 L1977.84 159.945 M1986.34 158.186 L1986.34 172.978 L1982.08 172.978 L1982.08 169.042 Q1980.62 171.403 1978.44 172.538 Q1976.27 173.649 1973.12 173.649 Q1969.14 173.649 1966.78 171.427 Q1964.44 169.181 1964.44 165.431 Q1964.44 161.056 1967.35 158.834 Q1970.29 156.612 1976.1 156.612 L1982.08 156.612 L1982.08 156.195 Q1982.08 153.255 1980.13 151.658 Q1978.21 150.038 1974.72 150.038 Q1972.49 150.038 1970.39 150.57 Q1968.28 151.103 1966.34 152.167 L1966.34 148.232 Q1968.67 147.33 1970.87 146.89 Q1973.07 146.427 1975.16 146.427 Q1980.78 146.427 1983.56 149.343 Q1986.34 152.26 1986.34 158.186 Z\" fill=\"#000000\" fill-rule=\"evenodd\" fill-opacity=\"1\" /><path clip-path=\"url(#clip810)\" d=\"M2014.3 169.089 L2014.3 182.839 L2010.02 182.839 L2010.02 147.052 L2014.3 147.052 L2014.3 150.987 Q2015.64 148.672 2017.68 147.561 Q2019.74 146.427 2022.59 146.427 Q2027.31 146.427 2030.25 150.177 Q2033.21 153.927 2033.21 160.038 Q2033.21 166.149 2030.25 169.899 Q2027.31 173.649 2022.59 173.649 Q2019.74 173.649 2017.68 172.538 Q2015.64 171.403 2014.3 169.089 M2028.79 160.038 Q2028.79 155.339 2026.85 152.677 Q2024.92 149.992 2021.54 149.992 Q2018.16 149.992 2016.22 152.677 Q2014.3 155.339 2014.3 160.038 Q2014.3 164.737 2016.22 167.422 Q2018.16 170.084 2021.54 170.084 Q2024.92 170.084 2026.85 167.422 Q2028.79 164.737 2028.79 160.038 Z\" fill=\"#000000\" fill-rule=\"evenodd\" fill-opacity=\"1\" /><path clip-path=\"url(#clip810)\" d=\"M2055.29 151.033 Q2054.58 150.617 2053.72 150.431 Q2052.89 150.223 2051.87 150.223 Q2048.26 150.223 2046.31 152.584 Q2044.39 154.922 2044.39 159.32 L2044.39 172.978 L2040.11 172.978 L2040.11 147.052 L2044.39 147.052 L2044.39 151.08 Q2045.73 148.718 2047.89 147.584 Q2050.04 146.427 2053.12 146.427 Q2053.56 146.427 2054.09 146.496 Q2054.62 146.543 2055.27 146.658 L2055.29 151.033 Z\" fill=\"#000000\" fill-rule=\"evenodd\" fill-opacity=\"1\" /><path clip-path=\"url(#clip810)\" d=\"M2068.77 150.038 Q2065.34 150.038 2063.35 152.723 Q2061.36 155.385 2061.36 160.038 Q2061.36 164.691 2063.33 167.376 Q2065.32 170.038 2068.77 170.038 Q2072.17 170.038 2074.16 167.353 Q2076.15 164.667 2076.15 160.038 Q2076.15 155.431 2074.16 152.746 Q2072.17 150.038 2068.77 150.038 M2068.77 146.427 Q2074.32 146.427 2077.49 150.038 Q2080.66 153.649 2080.66 160.038 Q2080.66 166.404 2077.49 170.038 Q2074.32 173.649 2068.77 173.649 Q2063.19 173.649 2060.02 170.038 Q2056.87 166.404 2056.87 160.038 Q2056.87 153.649 2060.02 150.038 Q2063.19 146.427 2068.77 146.427 Z\" fill=\"#000000\" fill-rule=\"evenodd\" fill-opacity=\"1\" /><path clip-path=\"url(#clip810)\" d=\"M2107.91 152.029 Q2109.51 149.158 2111.73 147.793 Q2113.95 146.427 2116.96 146.427 Q2121.01 146.427 2123.21 149.274 Q2125.41 152.098 2125.41 157.329 L2125.41 172.978 L2121.13 172.978 L2121.13 157.468 Q2121.13 153.742 2119.81 151.936 Q2118.49 150.13 2115.78 150.13 Q2112.47 150.13 2110.55 152.33 Q2108.63 154.529 2108.63 158.325 L2108.63 172.978 L2104.34 172.978 L2104.34 157.468 Q2104.34 153.718 2103.03 151.936 Q2101.71 150.13 2098.95 150.13 Q2095.69 150.13 2093.77 152.353 Q2091.84 154.552 2091.84 158.325 L2091.84 172.978 L2087.56 172.978 L2087.56 147.052 L2091.84 147.052 L2091.84 151.08 Q2093.3 148.695 2095.34 147.561 Q2097.38 146.427 2100.18 146.427 Q2103 146.427 2104.97 147.862 Q2106.96 149.297 2107.91 152.029 Z\" fill=\"#000000\" fill-rule=\"evenodd\" fill-opacity=\"1\" /><path clip-path=\"url(#clip810)\" d=\"M2156.08 158.95 L2156.08 161.033 L2136.5 161.033 Q2136.78 165.431 2139.14 167.746 Q2141.52 170.038 2145.76 170.038 Q2148.21 170.038 2150.5 169.436 Q2152.82 168.834 2155.09 167.63 L2155.09 171.658 Q2152.79 172.63 2150.39 173.14 Q2147.98 173.649 2145.5 173.649 Q2139.3 173.649 2135.66 170.038 Q2132.05 166.427 2132.05 160.269 Q2132.05 153.904 2135.48 150.177 Q2138.93 146.427 2144.76 146.427 Q2149.99 146.427 2153.03 149.806 Q2156.08 153.163 2156.08 158.95 M2151.82 157.7 Q2151.78 154.205 2149.85 152.121 Q2147.96 150.038 2144.81 150.038 Q2141.24 150.038 2139.09 152.052 Q2136.96 154.066 2136.64 157.723 L2151.82 157.7 Z\" fill=\"#000000\" fill-rule=\"evenodd\" fill-opacity=\"1\" /><path clip-path=\"url(#clip810)\" d=\"M2180.13 150.987 L2180.13 136.959 L2184.39 136.959 L2184.39 172.978 L2180.13 172.978 L2180.13 169.089 Q2178.79 171.403 2176.73 172.538 Q2174.69 173.649 2171.82 173.649 Q2167.12 173.649 2164.16 169.899 Q2161.22 166.149 2161.22 160.038 Q2161.22 153.927 2164.16 150.177 Q2167.12 146.427 2171.82 146.427 Q2174.69 146.427 2176.73 147.561 Q2178.79 148.672 2180.13 150.987 M2165.62 160.038 Q2165.62 164.737 2167.54 167.422 Q2169.48 170.084 2172.86 170.084 Q2176.24 170.084 2178.19 167.422 Q2180.13 164.737 2180.13 160.038 Q2180.13 155.339 2178.19 152.677 Q2176.24 149.992 2172.86 149.992 Q2169.48 149.992 2167.54 152.677 Q2165.62 155.339 2165.62 160.038 Z\" fill=\"#000000\" fill-rule=\"evenodd\" fill-opacity=\"1\" /><path clip-path=\"url(#clip810)\" d=\"M2193.16 147.052 L2197.42 147.052 L2197.42 172.978 L2193.16 172.978 L2193.16 147.052 M2193.16 136.959 L2197.42 136.959 L2197.42 142.353 L2193.16 142.353 L2193.16 136.959 Z\" fill=\"#000000\" fill-rule=\"evenodd\" fill-opacity=\"1\" /><path clip-path=\"url(#clip810)\" d=\"M2216.38 150.038 Q2212.96 150.038 2210.96 152.723 Q2208.97 155.385 2208.97 160.038 Q2208.97 164.691 2210.94 167.376 Q2212.93 170.038 2216.38 170.038 Q2219.78 170.038 2221.77 167.353 Q2223.77 164.667 2223.77 160.038 Q2223.77 155.431 2221.77 152.746 Q2219.78 150.038 2216.38 150.038 M2216.38 146.427 Q2221.94 146.427 2225.11 150.038 Q2228.28 153.649 2228.28 160.038 Q2228.28 166.404 2225.11 170.038 Q2221.94 173.649 2216.38 173.649 Q2210.8 173.649 2207.63 170.038 Q2204.48 166.404 2204.48 160.038 Q2204.48 153.649 2207.63 150.038 Q2210.8 146.427 2216.38 146.427 Z\" fill=\"#000000\" fill-rule=\"evenodd\" fill-opacity=\"1\" /></svg>\n"
     },
     "metadata": {},
     "execution_count": 60
    }
   ],
   "source": [
    "# Promedio a través de las realizaciones\n",
    "m_tray_infl = vec(mean(tray_infl, dims=3))\n",
    "\n",
    "plot(infl_dates(gtdata_eval), m_tray_infl, \n",
    "    label=\"Trayectoria promedio\") "
   ]
  },
  {
   "cell_type": "code",
   "execution_count": null,
   "metadata": {},
   "outputs": [],
   "source": []
  }
 ],
 "metadata": {
  "kernelspec": {
   "display_name": "Julia 1.6.2",
   "language": "julia",
   "name": "julia-1.6"
  },
  "language_info": {
   "file_extension": ".jl",
   "mimetype": "application/julia",
   "name": "julia",
   "version": "1.6.0"
  }
 },
 "nbformat": 4,
 "nbformat_minor": 4
}